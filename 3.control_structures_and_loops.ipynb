{
 "cells": [
  {
   "cell_type": "markdown",
   "id": "e0016953-d979-4f48-b4dc-c2b771bcd829",
   "metadata": {},
   "source": [
    "<b>If statement"
   ]
  },
  {
   "cell_type": "code",
   "execution_count": 9,
   "id": "90460b74-e1ea-4120-b7f9-4d99ead99792",
   "metadata": {},
   "outputs": [
    {
     "name": "stdout",
     "output_type": "stream",
     "text": [
      "yes I am 18\n"
     ]
    }
   ],
   "source": [
    "# If\n",
    "age=18\n",
    "if(age==18):\n",
    "    print(\"yes I am 18\")"
   ]
  },
  {
   "cell_type": "markdown",
   "id": "c4c08fd0-b35b-45d2-8397-b0f0ea1464ee",
   "metadata": {},
   "source": [
    "<b>Indentation"
   ]
  },
  {
   "cell_type": "code",
   "execution_count": 5,
   "id": "569d9bef-4de5-465d-b6ca-732aaa80c4e9",
   "metadata": {},
   "outputs": [
    {
     "name": "stdout",
     "output_type": "stream",
     "text": [
      "yes I am 18\n",
      "0\n",
      "1\n",
      "2\n",
      "3\n",
      "4\n",
      "5\n",
      "6\n",
      "7\n",
      "8\n",
      "9\n"
     ]
    }
   ],
   "source": [
    "if(age==18):\n",
    "    print(\"yes I am 18\")\n",
    "def function_name():\n",
    "    pass\n",
    "for i in range(10):\n",
    "    print(i)"
   ]
  },
  {
   "cell_type": "markdown",
   "id": "94a22b6c-7229-4a8a-8538-f82a25fe2c9e",
   "metadata": {},
   "source": [
    "<b>If else statement"
   ]
  },
  {
   "cell_type": "code",
   "execution_count": 8,
   "id": "b16bff88-2510-490e-8eab-c8d6fdbc7dbd",
   "metadata": {},
   "outputs": [
    {
     "name": "stdin",
     "output_type": "stream",
     "text": [
      "Enter your age:  12\n"
     ]
    },
    {
     "name": "stdout",
     "output_type": "stream",
     "text": [
      "Hello Children!\n"
     ]
    }
   ],
   "source": [
    "# If else\n",
    "age = int(input(\"Enter your age: \"))\n",
    "if age < 18:\n",
    "    print(\"Hello Children!\")\n",
    "else:\n",
    "    print(\"Hey Adult!\")"
   ]
  },
  {
   "cell_type": "markdown",
   "id": "9ef600de-02ab-4120-8b4f-47d3704b7704",
   "metadata": {},
   "source": [
    "<b>If elif statement"
   ]
  },
  {
   "cell_type": "code",
   "execution_count": 16,
   "id": "aeb8b0f1-7743-4f53-b04f-60245faca68f",
   "metadata": {},
   "outputs": [
    {
     "name": "stdin",
     "output_type": "stream",
     "text": [
      "Enter your age:  52\n"
     ]
    },
    {
     "name": "stdout",
     "output_type": "stream",
     "text": [
      "Hey Citizen!\n"
     ]
    }
   ],
   "source": [
    "# if elif\n",
    "\"\"\" \n",
    "OUTPUT:\n",
    "age<18 --> children\n",
    "age>18 and age<35 --> adult\n",
    "age>35 and age<59 --> citizen\n",
    "age>59 --> senior citizen\n",
    "\"\"\"\n",
    "age = int(input(\"Enter your age: \"))\n",
    "if age < 18:\n",
    "    print(\"Hello Children!\")\n",
    "elif (age>18 and age<35):\n",
    "    print(\"Hey Adult!\")\n",
    "elif (age>35 and age<59):\n",
    "    print(\"Hey Citizen!\")\n",
    "else:\n",
    "    print(\"Hey Senior Citizen!\")"
   ]
  },
  {
   "cell_type": "markdown",
   "id": "9d525870-da58-49cc-b083-4200c15ecc25",
   "metadata": {},
   "source": [
    "<b>For loop"
   ]
  },
  {
   "cell_type": "code",
   "execution_count": 18,
   "id": "bce2bfd3-7119-4299-8c01-ef3f7b6b76a8",
   "metadata": {},
   "outputs": [
    {
     "name": "stdout",
     "output_type": "stream",
     "text": [
      "52\n",
      "12\n",
      "14\n",
      "23\n",
      "89\n",
      "2\n",
      "45\n"
     ]
    }
   ],
   "source": [
    "lists=[52,12,14,23,89,2,45]\n",
    "for item in lists:\n",
    "    print(item)"
   ]
  },
  {
   "cell_type": "code",
   "execution_count": 23,
   "id": "1f3e2be3-00ff-4d43-a939-6d4b17f464fe",
   "metadata": {},
   "outputs": [
    {
     "name": "stdout",
     "output_type": "stream",
     "text": [
      "Hey Citizen!\n",
      "Hello Children!\n",
      "Hello Children!\n",
      "Hey Adult!\n",
      "Hey Senior Citizen!\n",
      "Hello Children!\n",
      "Hey Citizen!\n"
     ]
    }
   ],
   "source": [
    "age_list=[52,12,14,23,89,2,45]\n",
    "for age in age_list:\n",
    "    if age < 18:\n",
    "        print(\"Hello Children!\")\n",
    "    elif (age>18 and age<35):\n",
    "        print(\"Hey Adult!\")\n",
    "    elif (age>35 and age<59):\n",
    "        print(\"Hey Citizen!\")\n",
    "    else:\n",
    "        print(\"Hey Senior Citizen!\")"
   ]
  },
  {
   "cell_type": "markdown",
   "id": "0e8c8fae-903f-418c-bb5e-3508d7fb2549",
   "metadata": {},
   "source": [
    "<b> Odd Or Even Problem"
   ]
  },
  {
   "cell_type": "code",
   "execution_count": 26,
   "id": "b4688bf8-19b6-4877-8121-8ef26ccf48ee",
   "metadata": {},
   "outputs": [
    {
     "name": "stdin",
     "output_type": "stream",
     "text": [
      "Enter any number to find odd or even:  12\n"
     ]
    },
    {
     "name": "stdout",
     "output_type": "stream",
     "text": [
      "The number 12 is even number\n"
     ]
    }
   ],
   "source": [
    "# odd or even \n",
    "number = int(input(\"Enter any number to find odd or even: \"))\n",
    "if (number%2==0):\n",
    "    print(f\"The number {number} is even number\")\n",
    "else:\n",
    "    print(f\"The number {number} is odd number\")"
   ]
  },
  {
   "cell_type": "code",
   "execution_count": null,
   "id": "0bf382f4-5f37-4606-877d-bcedac5cb300",
   "metadata": {},
   "outputs": [],
   "source": []
  }
 ],
 "metadata": {
  "kernelspec": {
   "display_name": "Python 3 (ipykernel)",
   "language": "python",
   "name": "python3"
  },
  "language_info": {
   "codemirror_mode": {
    "name": "ipython",
    "version": 3
   },
   "file_extension": ".py",
   "mimetype": "text/x-python",
   "name": "python",
   "nbconvert_exporter": "python",
   "pygments_lexer": "ipython3",
   "version": "3.13.5"
  }
 },
 "nbformat": 4,
 "nbformat_minor": 5
}
