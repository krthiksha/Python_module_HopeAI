{
 "cells": [
  {
   "cell_type": "markdown",
   "id": "4e32b191-6ee1-48dd-88fd-add58c4d24da",
   "metadata": {},
   "source": [
    "<b> Python interview question - Hands on practice "
   ]
  },
  {
   "cell_type": "markdown",
   "id": "fb7ec542-c045-49cb-b15e-0ae6b05a5804",
   "metadata": {},
   "source": [
    "# Hands on practice"
   ]
  },
  {
   "cell_type": "code",
   "execution_count": 69,
   "id": "7322b17d-9464-4182-bae6-0e1569c1aff3",
   "metadata": {},
   "outputs": [
    {
     "name": "stdout",
     "output_type": "stream",
     "text": [
      "['ai', 'ml', 'dl', 'ds', 'nlp', 'tsa']\n"
     ]
    }
   ],
   "source": [
    "# 1.How do you get a list of all the keys from a dictionary\n",
    "my_dict = {'ai':'artificial intelligence', 'ml':'machine learning','dl':'deep learning','ds': 'data science',\n",
    "           'nlp':'natural language processing','tsa':'time series analyzes'}\n",
    "my_list = list(my_dict.keys())    #type conversion using list()\n",
    "print(my_list)"
   ]
  },
  {
   "cell_type": "code",
   "execution_count": 71,
   "id": "5f1842a9-6b12-40dc-957d-2ac934b8bef9",
   "metadata": {},
   "outputs": [
    {
     "name": "stdout",
     "output_type": "stream",
     "text": [
      "[27, 21, 6, 18, 36, 30, 99, 39, 24, 15]\n"
     ]
    }
   ],
   "source": [
    "# 2. Write a program to filter out the number divisible by 3 from a tuple using lambda function\n",
    "numbers=(34,2,5,27,21,6,18,59,36,30,99,39,24,15,67,86)\n",
    "num_divisible_by_3 = list(filter(lambda x: x%3==0, numbers ))    #syntax: filter(functionName, iterable)\n",
    "print(num_divisible_by_3)"
   ]
  },
  {
   "cell_type": "code",
   "execution_count": 74,
   "id": "de74cbd1-5ed2-4ad0-83e1-d4a9ec731466",
   "metadata": {},
   "outputs": [],
   "source": [
    "# 7.How can you delete a file in Python?\n",
    "import os    # os library used to interact with Operating system and allows us to perform operations in it \n",
    "os.remove(\"sampleFile.txt\")"
   ]
  },
  {
   "cell_type": "code",
   "execution_count": 73,
   "id": "4acf0c38-03dc-4d29-9cff-424217392a77",
   "metadata": {},
   "outputs": [
    {
     "data": {
      "text/plain": [
       "[9, 78, 77, 56, 4, 3]"
      ]
     },
     "execution_count": 73,
     "metadata": {},
     "output_type": "execute_result"
    }
   ],
   "source": [
    "# 11.Write a code snippet to reverse an array\n",
    "arr2=[3,4,56,77,78,9]\n",
    "arr2.reverse()\n",
    "arr2"
   ]
  },
  {
   "cell_type": "code",
   "execution_count": 83,
   "id": "f09681df-e757-4435-95d5-d17926b1d0fe",
   "metadata": {},
   "outputs": [
    {
     "name": "stdout",
     "output_type": "stream",
     "text": [
      "array :  array('i', [1, 2, 3, 4, 5, 6])\n",
      "get a element (index 3):  4\n",
      "delete an element (5 from arr) :   array('i', [1, 2, 3, 4, 6])\n",
      "delete an element (6 from arr) :   array('i', [1, 2, 3, 4])\n",
      "update an element: (at index 3):   array('i', [1, 2, 3, 876])\n"
     ]
    }
   ],
   "source": [
    "# 12.Write a code snippet to get an element, delete an element, and update an element in an array.\n",
    "import array \n",
    "myarr = array.array('i',[1,2,3,4,5,6])\n",
    "print(\"array : \" , myarr)\n",
    "print(\"get a element (index 3): \", myarr[3])\n",
    "myarr.remove(5)   # by element\n",
    "print(\"delete an element (5 from arr) :  \", myarr)\n",
    "del myarr[4]  #  by index\n",
    "print(\"delete an element (6 from arr) :  \", myarr)\n",
    "myarr[3] = 876\n",
    "print(\"update an element: (at index 3):  \",myarr)"
   ]
  },
  {
   "cell_type": "code",
   "execution_count": 35,
   "id": "6027023c-e085-446e-8388-878218f9197f",
   "metadata": {},
   "outputs": [
    {
     "name": "stdout",
     "output_type": "stream",
     "text": [
      "square of every element of a list:  [1, 4, 9, 16, 25, 36, 49, 64, 81, 100]\n"
     ]
    }
   ],
   "source": [
    "# 13. Write a code snippet to generate the square of every element of a list.\n",
    "list_1 = [1,2,3,4,5,6,7,8,9,10]\n",
    "list_1_square = list(map(lambda x: x**2, list_1))\n",
    "print(\"square of every element of a list: \",list_1_square)"
   ]
  },
  {
   "cell_type": "code",
   "execution_count": 33,
   "id": "e6e866c4-6003-4d04-9308-b6bc3365d0a0",
   "metadata": {},
   "outputs": [
    {
     "name": "stdout",
     "output_type": "stream",
     "text": [
      "list of square for all even number from 0 to 10 :  [0, 4, 16, 36, 64, 100]\n"
     ]
    }
   ],
   "source": [
    "# 27.How to use list comprehension to simplify code that generate a list of square for all even number from 0 to 10?\n",
    "even_squares = [x**2 for x in range(0,11) if x%2==0]\n",
    "print(\"list of square for all even number from 0 to 10 : \", even_squares)"
   ]
  },
  {
   "cell_type": "code",
   "execution_count": 34,
   "id": "f1721a75-d252-411a-8433-16d8c1178cd0",
   "metadata": {},
   "outputs": [
    {
     "name": "stdout",
     "output_type": "stream",
     "text": [
      "Convert string to list:  ['h', 'e', 'l', 'l', 'o']\n"
     ]
    }
   ],
   "source": [
    "# 29.Convert string to list\n",
    "myString = \"hello\"\n",
    "converted_list = list(myString)\n",
    "print(\"Convert string to list: \",converted_list)"
   ]
  },
  {
   "cell_type": "code",
   "execution_count": 63,
   "id": "d94290db-ecf8-43e8-8fb0-ab38c5e6279b",
   "metadata": {},
   "outputs": [
    {
     "name": "stdin",
     "output_type": "stream",
     "text": [
      "Enter the number to find prime or not:  953\n"
     ]
    },
    {
     "name": "stdout",
     "output_type": "stream",
     "text": [
      "953 is Prime Number\n"
     ]
    }
   ],
   "source": [
    "# 35.Prime\n",
    "def isPrime(num):\n",
    "    if num<2:\n",
    "        return False\n",
    "    for i in range(2,int(num**0.5)+1):\n",
    "        if num%i==0:\n",
    "            return False\n",
    "    return True \n",
    "\n",
    "num = int(input(\"Enter the number to find prime or not: \"))\n",
    "if isPrime(num):\n",
    "    print(f\"{num} is Prime Number\")\n",
    "else:\n",
    "    print(f\"{num} is Not a Prime Number\")"
   ]
  },
  {
   "cell_type": "code",
   "execution_count": 66,
   "id": "134b82cd-f628-4144-a3bf-cceb515d26b2",
   "metadata": {},
   "outputs": [
    {
     "data": {
      "text/plain": [
       "120"
      ]
     },
     "execution_count": 66,
     "metadata": {},
     "output_type": "execute_result"
    }
   ],
   "source": [
    "# 36.Factorial\n",
    "def factorial(num):\n",
    "    if num==0: # base case\n",
    "        return 1\n",
    "    return num * factorial(num-1)  #recursive case\n",
    "factorial(5)"
   ]
  },
  {
   "cell_type": "code",
   "execution_count": 75,
   "id": "0a2a3ef4-3ef1-4235-b2b1-035379e157c9",
   "metadata": {},
   "outputs": [
    {
     "name": "stdout",
     "output_type": "stream",
     "text": [
      "5.0\n"
     ]
    }
   ],
   "source": [
    "# 37.Square root\n",
    "import math\n",
    "print(math.sqrt(25))"
   ]
  },
  {
   "cell_type": "code",
   "execution_count": 79,
   "id": "9838c620-26a0-4581-8cb3-1e49671d0f89",
   "metadata": {},
   "outputs": [
    {
     "name": "stdin",
     "output_type": "stream",
     "text": [
      "Enter the year to find leap year or not:  2025\n"
     ]
    },
    {
     "name": "stdout",
     "output_type": "stream",
     "text": [
      "2025 is Not a  Leap Year\n"
     ]
    }
   ],
   "source": [
    "# 38.Leap year\n",
    "def isLearYear(year):\n",
    "    return (year%4==0 and year%100!=0) or (year%400==0)\n",
    "year = int(input(\"Enter the year to find leap year or not: \"))\n",
    "if isLearYear(year):\n",
    "    print(f\"{year} is Leap Year\")\n",
    "else:\n",
    "    print(f\"{year} is Not a  Leap Year\")"
   ]
  },
  {
   "cell_type": "code",
   "execution_count": 107,
   "id": "880f964c-9739-4358-9e62-c76c9d8734a0",
   "metadata": {},
   "outputs": [
    {
     "name": "stdin",
     "output_type": "stream",
     "text": [
      "Enter the string to find Palindrome or not:  hello world\n"
     ]
    },
    {
     "name": "stdout",
     "output_type": "stream",
     "text": [
      "hello world is Not a  Palindrome\n"
     ]
    }
   ],
   "source": [
    "# 39.Palindrome\n",
    "def isPalindrome(string):\n",
    "    reversed_str=\"\"\n",
    "    for i in string:\n",
    "        reversed_str = i+ reversed_str\n",
    "    return string == reversed_str\n",
    "string = (input(\"Enter the string to find Palindrome or not: \"))\n",
    "if isPalindrome(string):\n",
    "    print(f\"{string} is Palindrome\")\n",
    "else:\n",
    "    print(f\"{string} is Not a  Palindrome\")"
   ]
  },
  {
   "cell_type": "code",
   "execution_count": 89,
   "id": "7de7887d-bce9-4c00-b7ec-2211ad7656b4",
   "metadata": {},
   "outputs": [
    {
     "name": "stdout",
     "output_type": "stream",
     "text": [
      " reverse a numpy array:  [6 5 4 3 2 1]\n"
     ]
    }
   ],
   "source": [
    "# 64.How would you reverse a numpy array?\n",
    "import numpy as np\n",
    "arr = np.array([1,2,3,4,5,6])\n",
    "print(\" reverse a numpy array: \",arr[::-1])"
   ]
  },
  {
   "cell_type": "code",
   "execution_count": null,
   "id": "e51586e4-b0d7-4679-ba55-973f7fc91f82",
   "metadata": {},
   "outputs": [],
   "source": []
  },
  {
   "cell_type": "code",
   "execution_count": null,
   "id": "a89dba7f-198e-41a2-9937-39bc8671aa38",
   "metadata": {},
   "outputs": [],
   "source": []
  },
  {
   "cell_type": "code",
   "execution_count": null,
   "id": "f7866f44-387c-449e-9f23-e125b6daa56e",
   "metadata": {},
   "outputs": [],
   "source": []
  },
  {
   "cell_type": "markdown",
   "id": "7f265944-56de-480d-83be-c39366b56f22",
   "metadata": {},
   "source": [
    "# Map vs filter vs zip"
   ]
  },
  {
   "cell_type": "code",
   "execution_count": 34,
   "id": "fd4bf61b-6bdc-4c45-a6c0-0308c8cfdd35",
   "metadata": {},
   "outputs": [
    {
     "name": "stdout",
     "output_type": "stream",
     "text": [
      "map example1 (square of even numbers):  [4, 16, 36, 64]\n",
      "map example2 (cube of odd number):  [1, 27, 125, 343]\n"
     ]
    }
   ],
   "source": [
    "# map\n",
    "# example 1 -- 2 iterables\n",
    "num_list = [2,4,6,8]\n",
    "square_numList = list(map(lambda x: x**2, num_list))\n",
    "print(\"map example1 (square of even numbers): \",square_numList)\n",
    "\n",
    "# example 2 -- multiple iterables\n",
    "num_list = [1,3,5,7]\n",
    "powOf = [3,3,3,3]\n",
    "square_numList = list(map(lambda x,y: x**y, num_list,powOf))    #syntax:    map(function, iterable1, iterable2 , .......)     - 2 or more iterables\n",
    "print(\"map example2 (cube of odd number): \",square_numList)"
   ]
  },
  {
   "cell_type": "code",
   "execution_count": 108,
   "id": "ce469ec2-e5e1-4bb1-b7da-2b2b07e1a097",
   "metadata": {},
   "outputs": [
    {
     "name": "stdout",
     "output_type": "stream",
     "text": [
      "zip object:  <zip object at 0x000001ADA9BE4C40>\n",
      "zip example 1 (zipping 3 iterables) :  {(3, 3, 6), (34, 3, 6), (324, 33, 4.4), (34, 3, 45)}\n",
      "zip example 2 (merging 2 iterables):  [('john', 'HR'), ('elsa', 'Manager'), ('kavi', 'Employee')]\n"
     ]
    }
   ],
   "source": [
    "# zip\n",
    "# example 1 -- multiple iterables\n",
    "a=[324,34,34,3,43]\n",
    "b=[33,3,3,3]\n",
    "c=[4.4,45,6,6]\n",
    "res = set(zip(a,b,c))\n",
    "print(\"zip object: \", zip(a,b,c))\n",
    "print(\"zip example 1 (zipping 3 iterables) : \",res)\n",
    "\n",
    "# example 2    -- 2 iterables\n",
    "name=[\"john\",\"elsa\",\"kavi\"]\n",
    "role=[\"HR\",\"Manager\",\"Employee\"]\n",
    "result=list(zip(name, role))     #syntax:   zip(iterable1,iterable2, .....)      - 2 or more iterables\n",
    "print(\"zip example 2 (merging 2 iterables): \",result)"
   ]
  },
  {
   "cell_type": "markdown",
   "id": "efb03d6b-398b-47bb-b355-afcd88196ccf",
   "metadata": {},
   "source": [
    "# python basics"
   ]
  },
  {
   "cell_type": "code",
   "execution_count": 38,
   "id": "5a36f469-f90f-41c5-9ea5-6ee8a747478c",
   "metadata": {},
   "outputs": [
    {
     "data": {
      "text/plain": [
       "float"
      ]
     },
     "execution_count": 38,
     "metadata": {},
     "output_type": "execute_result"
    }
   ],
   "source": [
    "# check type of variable \n",
    "a = 44.4\n",
    "type(a)"
   ]
  },
  {
   "cell_type": "code",
   "execution_count": 39,
   "id": "e99b81ed-7f2a-42b1-9cef-113dc56b35bf",
   "metadata": {},
   "outputs": [
    {
     "data": {
      "text/plain": [
       "2354"
      ]
     },
     "execution_count": 39,
     "metadata": {},
     "output_type": "execute_result"
    }
   ],
   "source": [
    "# convert number string into int \n",
    "num=\"2354\"\n",
    "converted_int = int(num)\n",
    "converted_int"
   ]
  },
  {
   "cell_type": "code",
   "execution_count": 85,
   "id": "cbaaaff7-e5b5-4723-b7d7-c733da8310cc",
   "metadata": {},
   "outputs": [],
   "source": [
    "# Python concepts"
   ]
  },
  {
   "cell_type": "code",
   "execution_count": 109,
   "id": "e54b26e0-f64f-444f-a8cb-2f19bb3956b7",
   "metadata": {},
   "outputs": [
    {
     "data": {
      "text/plain": [
       "\" \\npython data types:- \\nint, float, bool, string   \\nlist, tuple, set, dict  \\n\\nmutable - list , dict, set\\nimmutable - tuple, string, int, float\\n\\nrange-- python version 3 \\nxrange-- python version 2 \\n\\nmodule -- single python file \\npackage -- a directoty contains multiple modules\\n\\nlist -- different data type , collection of items\\narray -- same data type,  used for performing numerical operations in array\\n\\nbenefits of functions --> code reusability, modular code structure, easier to debug, maintain and test\\n\\ndata structures --> list, tuple,  dictionary, set , array, string\\n\\nbuilt in types --> int, float, string, boolean, None type, list, set, tuple, dictionary\\n\\noops in python --> class, object, inheritence, abstraction, polymorphism, encapsulation\\n\\nlist -- mutable, dynamic size, slower\\ntuple -- immutable, fixed size, faster\\n\\nset:\\n- unordered collection of unique elements\\n- created using set() function or {1,2,3}\\n- useful when representing data's without duplicates (unique data's )\\n- can perform mathematical set operations like: union(), intersection(), difference(), symmentric_difference()\\n\\n\\n\\n\\n\""
      ]
     },
     "execution_count": 109,
     "metadata": {},
     "output_type": "execute_result"
    }
   ],
   "source": [
    "\"\"\" \n",
    "python data types:- \n",
    "int, float, bool, string   \n",
    "list, tuple, set, dict  \n",
    "\n",
    "mutable - list , dict, set\n",
    "immutable - tuple, string, int, float\n",
    "\n",
    "range-- python version 3 \n",
    "xrange-- python version 2 \n",
    "\n",
    "module -- single python file \n",
    "package -- a directoty contains multiple modules\n",
    "\n",
    "list -- different data type , collection of items\n",
    "array -- same data type,  used for performing numerical operations in array\n",
    "\n",
    "benefits of functions --> code reusability, modular code structure, easier to debug, maintain and test\n",
    "\n",
    "data structures --> list, tuple,  dictionary, set , array, string\n",
    "\n",
    "built in types --> int, float, string, boolean, None type, list, set, tuple, dictionary\n",
    "\n",
    "oops in python --> class, object, inheritence, abstraction, polymorphism, encapsulation\n",
    "\n",
    "list -- mutable, dynamic size, slower\n",
    "tuple -- immutable, fixed size, faster\n",
    "\n",
    "set:\n",
    "- unordered collection of unique elements\n",
    "- created using set() function or {1,2,3}\n",
    "- useful when representing data's without duplicates (unique data's )\n",
    "- can perform mathematical set operations like: union(), intersection(), difference(), symmentric_difference()\n",
    "\n",
    "\n",
    "\n",
    "\n",
    "\"\"\""
   ]
  },
  {
   "cell_type": "code",
   "execution_count": null,
   "id": "419d752a-d0fd-48a4-8514-fcb77cdcc07c",
   "metadata": {},
   "outputs": [],
   "source": []
  },
  {
   "cell_type": "code",
   "execution_count": null,
   "id": "52a4caa3-7102-44f8-a547-9a13f604d411",
   "metadata": {},
   "outputs": [],
   "source": []
  },
  {
   "cell_type": "markdown",
   "id": "772e9fc0-6a75-466b-aa3e-e007e4c4d927",
   "metadata": {},
   "source": [
    "# list "
   ]
  },
  {
   "cell_type": "code",
   "execution_count": 120,
   "id": "5e967dfd-8181-4d17-94fc-b178d8a2f54b",
   "metadata": {},
   "outputs": [
    {
     "data": {
      "text/plain": [
       "5"
      ]
     },
     "execution_count": 120,
     "metadata": {},
     "output_type": "execute_result"
    }
   ],
   "source": [
    "# access list element \n",
    "list1=[33,456,2,5]\n",
    "list1[3]"
   ]
  },
  {
   "cell_type": "code",
   "execution_count": 121,
   "id": "9d2e8094-80dc-499c-a629-8ed7e87c139d",
   "metadata": {},
   "outputs": [],
   "source": [
    "# deleting an element from a list.\n",
    "# using remove   ---- specify the element\n",
    "list1.remove(2)"
   ]
  },
  {
   "cell_type": "code",
   "execution_count": 122,
   "id": "4c6984a4-1ec9-43a0-b8ee-5ec54a4276a1",
   "metadata": {},
   "outputs": [
    {
     "data": {
      "text/plain": [
       "[33, 456, 5]"
      ]
     },
     "execution_count": 122,
     "metadata": {},
     "output_type": "execute_result"
    }
   ],
   "source": [
    "list1"
   ]
  },
  {
   "cell_type": "code",
   "execution_count": 123,
   "id": "4384e36a-c63e-474d-a467-2cf401773ed9",
   "metadata": {},
   "outputs": [
    {
     "data": {
      "text/plain": [
       "456"
      ]
     },
     "execution_count": 123,
     "metadata": {},
     "output_type": "execute_result"
    }
   ],
   "source": [
    "# using pop --- specify index\n",
    "list1.pop(1)"
   ]
  },
  {
   "cell_type": "code",
   "execution_count": 124,
   "id": "1b4dba71-c685-4a3b-88bf-9e70677412b8",
   "metadata": {},
   "outputs": [
    {
     "data": {
      "text/plain": [
       "[33, 5]"
      ]
     },
     "execution_count": 124,
     "metadata": {},
     "output_type": "execute_result"
    }
   ],
   "source": [
    "list1"
   ]
  },
  {
   "cell_type": "code",
   "execution_count": 125,
   "id": "a82d165c-8d24-462b-8dda-6ff5f2d07647",
   "metadata": {},
   "outputs": [],
   "source": [
    "del list1[0]   # --- delete using del keyword (by passing index of the element)"
   ]
  },
  {
   "cell_type": "code",
   "execution_count": 126,
   "id": "389c09a2-daca-4a10-bec3-f3f4b12c046d",
   "metadata": {},
   "outputs": [
    {
     "data": {
      "text/plain": [
       "[5]"
      ]
     },
     "execution_count": 126,
     "metadata": {},
     "output_type": "execute_result"
    }
   ],
   "source": [
    "list1"
   ]
  },
  {
   "cell_type": "code",
   "execution_count": 127,
   "id": "a8a029a0-cf34-4113-b925-75bcfa4cf8cd",
   "metadata": {},
   "outputs": [],
   "source": [
    "# delete an entire list.\n",
    "del list1"
   ]
  },
  {
   "cell_type": "code",
   "execution_count": 69,
   "id": "af96f64f-863a-42cc-898a-2b55f0e67d87",
   "metadata": {},
   "outputs": [
    {
     "ename": "NameError",
     "evalue": "name 'list1' is not defined",
     "output_type": "error",
     "traceback": [
      "\u001b[1;31m---------------------------------------------------------------------------\u001b[0m",
      "\u001b[1;31mNameError\u001b[0m                                 Traceback (most recent call last)",
      "Cell \u001b[1;32mIn[69], line 1\u001b[0m\n\u001b[1;32m----> 1\u001b[0m list1\n",
      "\u001b[1;31mNameError\u001b[0m: name 'list1' is not defined"
     ]
    }
   ],
   "source": [
    "list1     # thorws error -- as the list is deleted "
   ]
  },
  {
   "cell_type": "code",
   "execution_count": 14,
   "id": "0175ca16-9f5c-408e-b79c-d44315570013",
   "metadata": {},
   "outputs": [
    {
     "name": "stdout",
     "output_type": "stream",
     "text": [
      "[{'a'}, {'b'}]\n",
      "output of following:  2\n"
     ]
    }
   ],
   "source": [
    "x = ['a','b']\n",
    "print((list(map(set,x))))\n",
    "print(\"output of following: \", len(list(map(list,x))))"
   ]
  },
  {
   "cell_type": "markdown",
   "id": "3a03c727-7196-4768-b473-3b378341de5f",
   "metadata": {},
   "source": [
    "# array "
   ]
  },
  {
   "cell_type": "code",
   "execution_count": 129,
   "id": "1cdd1d36-b461-4f63-adb3-da9bad0a7c87",
   "metadata": {},
   "outputs": [
    {
     "data": {
      "text/plain": [
       "[3244, 434, 4, 3244, 434, 4]"
      ]
     },
     "execution_count": 129,
     "metadata": {},
     "output_type": "execute_result"
    }
   ],
   "source": [
    "arr2=[3244,434,4]\n",
    "arr2 * 2   #list"
   ]
  },
  {
   "cell_type": "code",
   "execution_count": 85,
   "id": "4b8d7578-3fe9-440d-8e5a-5b50bfcb40a6",
   "metadata": {},
   "outputs": [
    {
     "data": {
      "text/plain": [
       "array('i', [2, 3, 4, 5])"
      ]
     },
     "execution_count": 85,
     "metadata": {},
     "output_type": "execute_result"
    }
   ],
   "source": [
    "import array\n",
    "a = array.array('i',[2,3,4,5])\n",
    "a"
   ]
  },
  {
   "cell_type": "code",
   "execution_count": 90,
   "id": "5f240204-03b2-4594-8103-10e93baebc6c",
   "metadata": {},
   "outputs": [
    {
     "data": {
      "text/plain": [
       "array('i', [2, 3, 4, 5, 2, 3, 4, 5])"
      ]
     },
     "execution_count": 90,
     "metadata": {},
     "output_type": "execute_result"
    }
   ],
   "source": [
    "a * 2      # array module"
   ]
  },
  {
   "cell_type": "code",
   "execution_count": 87,
   "id": "848e1dd5-d76a-481f-ac21-9891f771d578",
   "metadata": {},
   "outputs": [
    {
     "data": {
      "text/plain": [
       "array([2, 2, 2, 2])"
      ]
     },
     "execution_count": 87,
     "metadata": {},
     "output_type": "execute_result"
    }
   ],
   "source": [
    "import numpy as np \n",
    "n = np.array([2,2,2,2])\n",
    "n"
   ]
  },
  {
   "cell_type": "code",
   "execution_count": 91,
   "id": "ec41fcc1-8e6d-4156-afb8-6c75f1eb4cfd",
   "metadata": {},
   "outputs": [
    {
     "data": {
      "text/plain": [
       "array([4, 4, 4, 4])"
      ]
     },
     "execution_count": 91,
     "metadata": {},
     "output_type": "execute_result"
    }
   ],
   "source": [
    "n*2      #numpy array"
   ]
  },
  {
   "cell_type": "code",
   "execution_count": 16,
   "id": "7b71f3e5-113b-47f3-a9e6-08b34a91c493",
   "metadata": {},
   "outputs": [
    {
     "name": "stdout",
     "output_type": "stream",
     "text": [
      "array('f', [3.5, 67.69999694824219, 8.5600004196167, 9.300000190734863])\n"
     ]
    }
   ],
   "source": [
    "#array module \n",
    "# create array\n",
    "import array\n",
    "myarray_f = array.array('f',[3.5,67.7,8.56,9.3])  #less precision\n",
    "print(myarray_f)"
   ]
  },
  {
   "cell_type": "code",
   "execution_count": 30,
   "id": "9e12ad32-4157-4814-ad21-e7cd028f554a",
   "metadata": {},
   "outputs": [
    {
     "name": "stdout",
     "output_type": "stream",
     "text": [
      "array('d', [3.5, 67.7, 8.56, 9.3])\n"
     ]
    }
   ],
   "source": [
    "import array\n",
    "myarray_d = array.array('d',[3.5,67.7,8.56,9.3])  #higher precision\n",
    "print(myarray_d)"
   ]
  },
  {
   "cell_type": "code",
   "execution_count": 31,
   "id": "a7f56acc-ca45-4cb8-85aa-a8594e59ea1f",
   "metadata": {},
   "outputs": [
    {
     "data": {
      "text/plain": [
       "9.3"
      ]
     },
     "execution_count": 31,
     "metadata": {},
     "output_type": "execute_result"
    }
   ],
   "source": [
    "# array access \n",
    "myarray_d[3]"
   ]
  },
  {
   "cell_type": "code",
   "execution_count": 32,
   "id": "0fec3813-a499-4bed-b557-01d8ee4dd7c3",
   "metadata": {},
   "outputs": [
    {
     "data": {
      "text/plain": [
       "array('d', [3.5, 67.7, 8.56, 456.45])"
      ]
     },
     "execution_count": 32,
     "metadata": {},
     "output_type": "execute_result"
    }
   ],
   "source": [
    "# update array\n",
    "myarray_d[3] = 456.45\n",
    "myarray_d"
   ]
  },
  {
   "cell_type": "code",
   "execution_count": 33,
   "id": "eee3b485-181c-4998-b67f-5cb447933be5",
   "metadata": {},
   "outputs": [
    {
     "data": {
      "text/plain": [
       "array('d', [3.5, 67.7, 8.56, 456.45, 333.3333])"
      ]
     },
     "execution_count": 33,
     "metadata": {},
     "output_type": "execute_result"
    }
   ],
   "source": [
    "# append array \n",
    "myarray_d.append(333.3333)\n",
    "myarray_d"
   ]
  },
  {
   "cell_type": "markdown",
   "id": "26f8a66a-b664-4766-8c4a-92a51d3ab263",
   "metadata": {},
   "source": [
    "# Numpy array"
   ]
  },
  {
   "cell_type": "code",
   "execution_count": 130,
   "id": "b5958e2d-5850-4c1c-86a9-c697baabcdcd",
   "metadata": {},
   "outputs": [
    {
     "data": {
      "text/plain": [
       "array([34.2 , 53.44,  9.44, 67.44, 89.22])"
      ]
     },
     "execution_count": 130,
     "metadata": {},
     "output_type": "execute_result"
    }
   ],
   "source": [
    "# numpy array\n",
    "import numpy as np \n",
    "# create --  numpy array  -- 1d arr\n",
    "arr= np.array([34.2,53.44,9.44,67.44,89.22])\n",
    "arr"
   ]
  },
  {
   "cell_type": "code",
   "execution_count": 131,
   "id": "c94dded8-c321-4e69-b48e-4dfe0c8933ed",
   "metadata": {},
   "outputs": [
    {
     "data": {
      "text/plain": [
       "np.float64(9.44)"
      ]
     },
     "execution_count": 131,
     "metadata": {},
     "output_type": "execute_result"
    }
   ],
   "source": [
    "# access 1d arr\n",
    "arr[2]"
   ]
  },
  {
   "cell_type": "code",
   "execution_count": 132,
   "id": "59a74cc1-a64b-42ec-b4db-da4b2ddba986",
   "metadata": {},
   "outputs": [
    {
     "data": {
      "text/plain": [
       "array([[34, 53,  9, 67, 89],\n",
       "       [ 2,  3,  4, 56,  6]])"
      ]
     },
     "execution_count": 132,
     "metadata": {},
     "output_type": "execute_result"
    }
   ],
   "source": [
    "# create -  n dimensional array   (2d arr)\n",
    "nd_arr= np.array([[34,53,9,67,89],[2,3,4,56,6]])\n",
    "nd_arr"
   ]
  },
  {
   "cell_type": "code",
   "execution_count": 61,
   "id": "cc0633c0-0d88-4994-beff-826240bb7b20",
   "metadata": {},
   "outputs": [
    {
     "data": {
      "text/plain": [
       "np.int64(56)"
      ]
     },
     "execution_count": 61,
     "metadata": {},
     "output_type": "execute_result"
    }
   ],
   "source": [
    "nd_arr[1][3]   #access 2d arr"
   ]
  },
  {
   "cell_type": "code",
   "execution_count": 63,
   "id": "6fd81419-6f46-46d7-aeb9-6ae6394ab6da",
   "metadata": {},
   "outputs": [
    {
     "name": "stdout",
     "output_type": "stream",
     "text": [
      "[34 53  9 67 89]\n",
      "[ 68 106  18 134 178]\n"
     ]
    }
   ],
   "source": [
    "# performing operations \n",
    "# 1d arr \n",
    "print(arr)\n",
    "print(arr * 2)"
   ]
  },
  {
   "cell_type": "code",
   "execution_count": 68,
   "id": "ce472f06-85dc-43a1-ad86-a41f2cadbd02",
   "metadata": {},
   "outputs": [
    {
     "name": "stdout",
     "output_type": "stream",
     "text": [
      "[[34 53  9 67 89]\n",
      " [ 2  3  4 56  6]]\n",
      "[[340 530  90 670 890]\n",
      " [ 20  30  40 560  60]]\n"
     ]
    }
   ],
   "source": [
    "# performing operations \n",
    "# 2d arr \n",
    "print(nd_arr)\n",
    "print(nd_arr * 10)"
   ]
  },
  {
   "cell_type": "markdown",
   "id": "a7ed21ef-40a8-405b-b646-1e537b0569db",
   "metadata": {},
   "source": [
    "# ordered dict"
   ]
  },
  {
   "cell_type": "code",
   "execution_count": 92,
   "id": "6ab62315-1d01-438a-85fd-0913cb9298ba",
   "metadata": {},
   "outputs": [
    {
     "data": {
      "text/plain": [
       "OrderedDict([('class1', 'maths'), ('class2', 'cs')])"
      ]
     },
     "execution_count": 92,
     "metadata": {},
     "output_type": "execute_result"
    }
   ],
   "source": [
    "from collections import OrderedDict\n",
    "od = OrderedDict()\n",
    "od['class1']='maths'\n",
    "od['class2']='cs'\n",
    "od"
   ]
  },
  {
   "cell_type": "code",
   "execution_count": 133,
   "id": "8762a810-e8f7-43fb-89dd-b5f94c5eeccc",
   "metadata": {},
   "outputs": [
    {
     "data": {
      "text/plain": [
       "True"
      ]
     },
     "execution_count": 133,
     "metadata": {},
     "output_type": "execute_result"
    }
   ],
   "source": [
    "# dict -- checking equality    (dict only checks the keys and values)\n",
    "{'class1':'maths','class2':'cs'} == {'class2':'cs', 'class1':'maths'}"
   ]
  },
  {
   "cell_type": "code",
   "execution_count": 134,
   "id": "39e15431-b6a3-4895-929d-6d8348f02cf8",
   "metadata": {},
   "outputs": [
    {
     "data": {
      "text/plain": [
       "False"
      ]
     },
     "execution_count": 134,
     "metadata": {},
     "output_type": "execute_result"
    }
   ],
   "source": [
    "# ordered dict -- checking equality    \n",
    "from collections import OrderedDict\n",
    "od1 = OrderedDict([('class1', 'maths'), ('class2', 'cs')])\n",
    "od2 = OrderedDict([ ('class2', 'cs'), ('class1', 'maths')])\n",
    "od1 == od2   # because it checks the order    (Ordered dict --> checks the keys and values  + Thier Order)"
   ]
  },
  {
   "cell_type": "code",
   "execution_count": 109,
   "id": "ca0aa213-27a4-491d-b5b8-9dbfb18538ce",
   "metadata": {},
   "outputs": [
    {
     "data": {
      "text/plain": [
       "OrderedDict([('a', 11), ('b', 22), ('c', 33)])"
      ]
     },
     "execution_count": 109,
     "metadata": {},
     "output_type": "execute_result"
    }
   ],
   "source": [
    "od3 = OrderedDict([('a',11),('b',22),('c',33)])\n",
    "od3"
   ]
  },
  {
   "cell_type": "code",
   "execution_count": 110,
   "id": "4a6d569a-e4ca-4162-b99d-44d43900d112",
   "metadata": {},
   "outputs": [
    {
     "data": {
      "text/plain": [
       "OrderedDict([('a', 11), ('c', 33), ('b', 22)])"
      ]
     },
     "execution_count": 110,
     "metadata": {},
     "output_type": "execute_result"
    }
   ],
   "source": [
    "# changing the order - move to end\n",
    "od3.move_to_end('b')\n",
    "od3"
   ]
  },
  {
   "cell_type": "code",
   "execution_count": 111,
   "id": "cda2c383-6b19-4fc0-8bf6-5d7491f21f89",
   "metadata": {},
   "outputs": [
    {
     "data": {
      "text/plain": [
       "OrderedDict([('c', 33), ('a', 11), ('b', 22)])"
      ]
     },
     "execution_count": 111,
     "metadata": {},
     "output_type": "execute_result"
    }
   ],
   "source": [
    "# changing the order - move to begining\n",
    "od3.move_to_end('c', last=False)   \n",
    "od3"
   ]
  },
  {
   "cell_type": "code",
   "execution_count": null,
   "id": "08f0373a-588a-4538-91c1-72bbf85e19b3",
   "metadata": {},
   "outputs": [],
   "source": []
  },
  {
   "cell_type": "code",
   "execution_count": 19,
   "id": "b97fd77d-5140-4e30-b908-bc1202444a50",
   "metadata": {},
   "outputs": [
    {
     "data": {
      "text/plain": [
       "' 49 50 51 55 56 57 58 59 60 61 62 67 68  '"
      ]
     },
     "execution_count": 19,
     "metadata": {},
     "output_type": "execute_result"
    }
   ],
   "source": [
    "#### -- need to learn \n",
    "# Pandas \n",
    "\"\"\" 49 50 51 55 56 57 58 59 60 61 62 67 68  \"\"\"\n",
    "# genetic algorithm ---> 65 "
   ]
  },
  {
   "cell_type": "code",
   "execution_count": null,
   "id": "cacc5872-2dc6-44a3-b673-eb2ca5502f27",
   "metadata": {},
   "outputs": [],
   "source": []
  },
  {
   "cell_type": "code",
   "execution_count": null,
   "id": "682abb54-c5c4-420e-b308-135fec5613b3",
   "metadata": {},
   "outputs": [],
   "source": []
  },
  {
   "cell_type": "code",
   "execution_count": 76,
   "id": "89b3460b-ceb7-4ae5-aa31-5402a2a4ec58",
   "metadata": {},
   "outputs": [
    {
     "data": {
      "text/plain": [
       "'100'"
      ]
     },
     "execution_count": 76,
     "metadata": {},
     "output_type": "execute_result"
    }
   ],
   "source": [
    "# Decimal to binary \n",
    "def d_b(num):\n",
    "    if num==1:\n",
    "        return \"1\"\n",
    "    quotient = num//2  \n",
    "    remainder = num%2\n",
    "    return  d_b(quotient) + str(remainder)\n",
    "\n",
    "d_b(4)\n",
    "        "
   ]
  },
  {
   "cell_type": "code",
   "execution_count": 50,
   "id": "e744ab69-ac48-4d57-a8fe-885dd0d4959f",
   "metadata": {},
   "outputs": [
    {
     "data": {
      "text/plain": [
       "'program'"
      ]
     },
     "execution_count": 50,
     "metadata": {},
     "output_type": "execute_result"
    }
   ],
   "source": [
    "# find longest word in string \n",
    "\"\"\" Approach 1 \"\"\"  # O(n)\n",
    "s = \" hello i am a python program used to write code\"\n",
    "separated_words = s.strip().split(' ')       # separate the words\n",
    "word_len = {}\n",
    "for word in separated_words:\n",
    "    word_len[len(word)] = word    # find the length of each word \n",
    "word_len[max(word_len.keys())]    # return the word which has maximum length "
   ]
  },
  {
   "cell_type": "code",
   "execution_count": 51,
   "id": "a209b3e3-c6ec-4b31-8db9-75fb5da976cf",
   "metadata": {},
   "outputs": [
    {
     "name": "stdout",
     "output_type": "stream",
     "text": [
      "program\n"
     ]
    }
   ],
   "source": [
    "\"\"\" Approach 2 \"\"\"  # O(2n)\n",
    "s = \" hello i am a python program used to write code\"\n",
    "separated_words = s.strip().split(' ') \n",
    "l =[]\n",
    "for i in separated_words:\n",
    "    l.append(len(i))\n",
    "max(l)\n",
    "for i in separated_words:\n",
    "    if len(i) == 7:\n",
    "        print(i)"
   ]
  },
  {
   "cell_type": "code",
   "execution_count": 56,
   "id": "6ed0ba89-a1ce-4975-87d8-9403baf6cf24",
   "metadata": {},
   "outputs": [
    {
     "data": {
      "text/plain": [
       "'program'"
      ]
     },
     "execution_count": 56,
     "metadata": {},
     "output_type": "execute_result"
    }
   ],
   "source": [
    "\"\"\" Best approach \"\"\"  # using max() function \n",
    "s = \" hello i am a python program used to write code\"\n",
    "max(s.strip().split(' '), key=len)"
   ]
  },
  {
   "cell_type": "code",
   "execution_count": 80,
   "id": "1ae01c63-3186-4929-b334-984ab683e183",
   "metadata": {},
   "outputs": [
    {
     "data": {
      "text/plain": [
       "True"
      ]
     },
     "execution_count": 80,
     "metadata": {},
     "output_type": "execute_result"
    }
   ],
   "source": [
    "#  find the word is anagram\n",
    "def isAnagram(w1, w2):\n",
    "    if sorted(w1.lower()) == sorted(w2.lower()):   # sort by lower case \n",
    "        return True\n",
    "    else:\n",
    "        return False\n",
    "isAnagram('rAce','care')\n"
   ]
  }
 ],
 "metadata": {
  "kernelspec": {
   "display_name": "Python 3 (ipykernel)",
   "language": "python",
   "name": "python3"
  },
  "language_info": {
   "codemirror_mode": {
    "name": "ipython",
    "version": 3
   },
   "file_extension": ".py",
   "mimetype": "text/x-python",
   "name": "python",
   "nbconvert_exporter": "python",
   "pygments_lexer": "ipython3",
   "version": "3.13.5"
  }
 },
 "nbformat": 4,
 "nbformat_minor": 5
}
