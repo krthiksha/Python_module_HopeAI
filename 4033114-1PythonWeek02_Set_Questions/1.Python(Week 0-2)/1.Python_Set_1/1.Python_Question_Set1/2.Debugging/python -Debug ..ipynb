{
 "cells": [
  {
   "cell_type": "code",
   "execution_count": 2,
   "id": "8e02775a",
   "metadata": {},
   "outputs": [
    {
     "name": "stdout",
     "output_type": "stream",
     "text": [
      "0\n",
      "1\n",
      "2\n",
      "3\n",
      "4\n"
     ]
    }
   ],
   "source": [
    "#1.Find the error in the following Python code:\n",
    "\n",
    " # for i in range(5)\n",
    " #    print(i)\n",
    "\n",
    "# Answer:-\n",
    "\"\"\" in the code:  the colon in for loop is missing \"\"\"\n",
    "for i in range(5):\n",
    "    print(i)"
   ]
  },
  {
   "cell_type": "code",
   "execution_count": 5,
   "id": "df3cee51",
   "metadata": {},
   "outputs": [
    {
     "name": "stdout",
     "output_type": "stream",
     "text": [
      "10 5\n"
     ]
    }
   ],
   "source": [
    "#2.What will be the output of this code?\n",
    "\n",
    "# a = 10\n",
    "# b = \"5\"\n",
    "# print(a + b)\n",
    "\n",
    "# Answer:-\n",
    "\"\"\"  it throws the type error -- as the integer and string cannot be concatenated, only a string + string can be concatenated   \"\"\"\n",
    "\n",
    "a = \"10 \"\n",
    "b = \"5\"\n",
    "print(a + b)"
   ]
  },
  {
   "cell_type": "code",
   "execution_count": 8,
   "id": "15c2e7b2",
   "metadata": {},
   "outputs": [
    {
     "data": {
      "text/plain": [
       "5"
      ]
     },
     "execution_count": 8,
     "metadata": {},
     "output_type": "execute_result"
    }
   ],
   "source": [
    "#3.What is the issue in this Python snippet?\n",
    "\n",
    " # def add_numbers(a, b)\n",
    " #    return a + b\n",
    "\n",
    "# Answer:-\n",
    "\"\"\" missing colon (:) in the function definition   \"\"\"\n",
    "def add_numbers(a, b):\n",
    "    return a + b\n",
    "add_numbers(3,2)"
   ]
  },
  {
   "cell_type": "code",
   "execution_count": 10,
   "id": "2f8e5efd",
   "metadata": {},
   "outputs": [
    {
     "name": "stdout",
     "output_type": "stream",
     "text": [
      "4\n"
     ]
    }
   ],
   "source": [
    "\n",
    "#4.Identify the bug in the following Python code:\n",
    "\n",
    "#  numbers = [1, 2, 3, 4]\n",
    "# print(numbers[4])\n",
    "\n",
    "# Answer:-\n",
    "\"\"\"   it throws INDEX error: index out of range error -- as the length of list is 4 and \n",
    "index starts from 0 like (0,1,2,3). so the index 4 cannot be accessed  \"\"\"\n",
    "numbers = [1, 2, 3, 4]\n",
    "print(numbers[3])  #to access last item"
   ]
  },
  {
   "cell_type": "code",
   "execution_count": 11,
   "id": "bc0080c1",
   "metadata": {},
   "outputs": [
    {
     "name": "stdout",
     "output_type": "stream",
     "text": [
      "Hello, World!\n"
     ]
    }
   ],
   "source": [
    "#5.Find the error in the following Python code:\n",
    "# print \"Hello, World!\"\n",
    "\n",
    "# Answer:-\n",
    "\"\"\"   missing parenthesis  \"\"\"\n",
    "print(\"Hello, World!\")"
   ]
  },
  {
   "cell_type": "code",
   "execution_count": 14,
   "id": "5b449ecb",
   "metadata": {},
   "outputs": [
    {
     "data": {
      "text/plain": [
       "2.5"
      ]
     },
     "execution_count": 14,
     "metadata": {},
     "output_type": "execute_result"
    }
   ],
   "source": [
    "#6.Find the error in the following Python code:\n",
    "# x = 5 / 0   --- NOT possible\n",
    "\n",
    "# Answer:-\n",
    "\"\"\"  zero division error -- the number cannot be divisible by 0 .    \"\"\"\n",
    "x = 5/2  # -- Possible\n",
    "x"
   ]
  },
  {
   "cell_type": "code",
   "execution_count": 19,
   "id": "79260565",
   "metadata": {},
   "outputs": [
    {
     "name": "stdout",
     "output_type": "stream",
     "text": [
      "Name: Alice, Age: 25\n"
     ]
    }
   ],
   "source": [
    "#7.Find the error in the following Python code:name = \"Alice\"\n",
    "# age = 25\n",
    "# print(\"Name: \" + name + \", Age: \" + age)\n",
    "\n",
    "# Answer:-\n",
    "\"\"\"  name error -> as the name was not declared in the code   \"\"\"\n",
    "name = \"Alice\"\n",
    "age = 25\n",
    "print(f\"Name: {name}, Age: {age}\")"
   ]
  },
  {
   "cell_type": "code",
   "execution_count": 36,
   "id": "3e4b6f3b",
   "metadata": {},
   "outputs": [
    {
     "name": "stdout",
     "output_type": "stream",
     "text": [
      "1\n",
      "0\n",
      "-1\n",
      "-2\n",
      "-3\n",
      "-4\n",
      "-5\n",
      "-6\n",
      "-7\n",
      "-8\n",
      "-9\n"
     ]
    }
   ],
   "source": [
    "#8.Find the error\n",
    "# for i in range(1, 10, -1):\n",
    "#     print(i)\n",
    "\n",
    "# Answer:-\n",
    "\"\"\" from 1 to 10 is positive direction but we are trying to decrement by -1 in negative direction => we cannot run it \n",
    "change the stop value as -10 thats specifies go in negative direction \"\"\"\n",
    "for i in range(1,-10,-1):\n",
    "    print(i)"
   ]
  },
  {
   "cell_type": "code",
   "execution_count": 38,
   "id": "95976c4d",
   "metadata": {},
   "outputs": [],
   "source": [
    "#9. Find the error in the following Python code:\n",
    "# x = 10\n",
    "# if x = 5:\n",
    "#     print(\"x is 5\")\n",
    "\n",
    "# Answer:-\n",
    "\"\"\" while checking the equality condition use equal to operator (===)   \"\"\"\n",
    "x = 10\n",
    "if x == 5:\n",
    "    print(\"x is 5\")\n"
   ]
  },
  {
   "cell_type": "code",
   "execution_count": 40,
   "id": "317eca50",
   "metadata": {},
   "outputs": [],
   "source": [
    "#10. Identify the error in the following function definition:\n",
    "\n",
    "# def greet(name)\n",
    "#     print(\"Hello, \" + name)\n",
    "\n",
    "\n",
    "# Answer:-\n",
    "\"\"\"  missing colon   \"\"\"\n",
    "def greet(name):\n",
    "    print(\"Hello, \" + name)\n",
    "\n"
   ]
  }
 ],
 "metadata": {
  "kernelspec": {
   "display_name": "Python 3 (ipykernel)",
   "language": "python",
   "name": "python3"
  },
  "language_info": {
   "codemirror_mode": {
    "name": "ipython",
    "version": 3
   },
   "file_extension": ".py",
   "mimetype": "text/x-python",
   "name": "python",
   "nbconvert_exporter": "python",
   "pygments_lexer": "ipython3",
   "version": "3.13.5"
  }
 },
 "nbformat": 4,
 "nbformat_minor": 5
}
