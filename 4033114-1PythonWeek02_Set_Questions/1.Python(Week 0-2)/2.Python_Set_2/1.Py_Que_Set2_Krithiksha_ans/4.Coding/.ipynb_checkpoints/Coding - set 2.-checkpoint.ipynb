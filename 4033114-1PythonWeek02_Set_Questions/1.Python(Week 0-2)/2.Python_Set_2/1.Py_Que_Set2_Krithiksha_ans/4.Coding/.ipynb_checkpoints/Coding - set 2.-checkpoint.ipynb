{
 "cells": [
  {
   "cell_type": "code",
   "execution_count": 41,
   "id": "aba1475d",
   "metadata": {},
   "outputs": [
    {
     "name": "stdout",
     "output_type": "stream",
     "text": [
      "olleh\n"
     ]
    }
   ],
   "source": [
    "# 1.Write a Python program to find the reverse of a string. Expected Output (for input \"hello\"):\n",
    "# olleh\n",
    "def reverse_string(s):\n",
    " return string[::-1]\n",
    "print(reverse_string(\"hello\"))"
   ]
  },
  {
   "cell_type": "code",
   "execution_count": 23,
   "id": "5b1ec143",
   "metadata": {},
   "outputs": [
    {
     "name": "stdout",
     "output_type": "stream",
     "text": [
      "  0 1 1 2 3 5 8 13 21 34\n"
     ]
    }
   ],
   "source": [
    "# 2.Write a Python program to generate the Fibonacci sequence up to 10 terms.\n",
    "# Expected Output:\n",
    "# 0 1 1 2 3 5 8 13 21 34\n",
    "\n",
    "# approach - 1\n",
    "def fibonacci_series(term):\n",
    "    a=0\n",
    "    b=1\n",
    "    fibo= \" \"\n",
    "    for i in range(term):\n",
    "        fibo= fibo+ \" \"+ str(a)\n",
    "        a,b=b,a+b\n",
    "    print(fibo)\n",
    "fibonacci_series(10)"
   ]
  },
  {
   "cell_type": "code",
   "execution_count": 32,
   "id": "6a1e26bf-4299-48ba-a504-cc783d47bf26",
   "metadata": {},
   "outputs": [
    {
     "name": "stdout",
     "output_type": "stream",
     "text": [
      "[0, 1, 1, 2, 3, 5, 8, 13, 21, 34]\n"
     ]
    }
   ],
   "source": [
    "# approach - 2 \n",
    "def fibonacci(n):\n",
    "    sequence = [0,1]\n",
    "    for i in range(2,n):\n",
    "        sequence.append(sequence[-1]+sequence[-2])\n",
    "    print(sequence)\n",
    "fibonacci(10)"
   ]
  },
  {
   "cell_type": "code",
   "execution_count": 13,
   "id": "c656f04a",
   "metadata": {},
   "outputs": [
    {
     "name": "stdin",
     "output_type": "stream",
     "text": [
      "enter the string:  madam\n"
     ]
    },
    {
     "name": "stdout",
     "output_type": "stream",
     "text": [
      "madam is a palindrome\n"
     ]
    }
   ],
   "source": [
    "# 3.Write a Python function to check if a given string is a palindrome.\n",
    "# Expected Output (for input \"madam\"):\n",
    "# madam is a palindrome\n",
    "def ispalindrome(string):\n",
    "    return string==string[::-1]\n",
    "\n",
    "s=input(\"enter the string: \")\n",
    "if ispalindrome(s):\n",
    "    print(f\"{s} is a palindrome\")\n",
    "else:\n",
    "     print(f\"{s} is Not a palindrome\")\n",
    "    \n"
   ]
  },
  {
   "cell_type": "code",
   "execution_count": 24,
   "id": "cd7b0a78",
   "metadata": {},
   "outputs": [
    {
     "name": "stdin",
     "output_type": "stream",
     "text": [
      "enter the string:  education\n"
     ]
    },
    {
     "name": "stdout",
     "output_type": "stream",
     "text": [
      " Number of vowels:  5\n"
     ]
    }
   ],
   "source": [
    "\n",
    "\n",
    "# 4.Write a Python program to count the number of vowels in a given string. \n",
    "# Expected Output (for input \"education\"):\n",
    "\n",
    "# Number of vowels: 5\n",
    "    \n",
    "# approach - 1 \n",
    "def countVowels(string):\n",
    "    vowels = ['a','e','i','o','u']\n",
    "    vowel_count=0\n",
    "    for char in string.lower():\n",
    "        if char in vowels:\n",
    "            vowel_count+=1\n",
    "    return vowel_count\n",
    "\n",
    "s=input(\"enter the string: \")\n",
    "print(f\" Number of vowels:  {countVowels(s)}\")\n",
    "\n",
    "\n"
   ]
  },
  {
   "cell_type": "code",
   "execution_count": 38,
   "id": "9db0d4cb-77ac-4bf6-9a5c-b5ed5d9381d9",
   "metadata": {},
   "outputs": [
    {
     "name": "stdout",
     "output_type": "stream",
     "text": [
      "Number of vowels: 5\n"
     ]
    }
   ],
   "source": [
    "# approach - 2\n",
    "\n",
    "def count_vowels(s):\n",
    "    vowels = \"aeiou\"\n",
    "    return (sum( 1 for char in s.lower() if char in vowels))\n",
    "\n",
    "print(\"Number of vowels:\", count_vowels(\"education\"))"
   ]
  },
  {
   "cell_type": "code",
   "execution_count": 42,
   "id": "bdbb9b19",
   "metadata": {},
   "outputs": [
    {
     "name": "stdout",
     "output_type": "stream",
     "text": [
      "[1, 2, 3, 4, 5]\n"
     ]
    }
   ],
   "source": [
    "# 5.Write a Python program to remove duplicates from a list.\n",
    "# Expected Output (for input [1, 2, 2, 3, 4, 4, 5]):\n",
    "\n",
    "#  [1, 2, 3, 4, 5]\n",
    "\n",
    "# remove duplicates\n",
    "\n",
    "def remove_duplicates(given_list):\n",
    " return list(set(given_list))  \n",
    "print(remove_duplicates([1, 2, 2, 3, 4, 4, 5]))"
   ]
  }
 ],
 "metadata": {
  "kernelspec": {
   "display_name": "Python 3 (ipykernel)",
   "language": "python",
   "name": "python3"
  },
  "language_info": {
   "codemirror_mode": {
    "name": "ipython",
    "version": 3
   },
   "file_extension": ".py",
   "mimetype": "text/x-python",
   "name": "python",
   "nbconvert_exporter": "python",
   "pygments_lexer": "ipython3",
   "version": "3.13.5"
  }
 },
 "nbformat": 4,
 "nbformat_minor": 5
}
