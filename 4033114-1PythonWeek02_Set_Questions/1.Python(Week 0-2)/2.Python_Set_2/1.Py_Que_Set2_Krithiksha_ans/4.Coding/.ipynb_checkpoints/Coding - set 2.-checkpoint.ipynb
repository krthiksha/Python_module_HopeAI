{
 "cells": [
  {
   "cell_type": "code",
   "execution_count": 1,
   "id": "aba1475d",
   "metadata": {},
   "outputs": [
    {
     "name": "stdin",
     "output_type": "stream",
     "text": [
      "enter the string:  hello\n"
     ]
    },
    {
     "name": "stdout",
     "output_type": "stream",
     "text": [
      "olleh\n"
     ]
    }
   ],
   "source": [
    "# 1.Write a Python program to find the reverse of a string. Expected Output (for input \"hello\"):\n",
    "# olleh\n",
    "string = input(\"enter the string: \")\n",
    "print(string[::-1])"
   ]
  },
  {
   "cell_type": "code",
   "execution_count": 10,
   "id": "5b1ec143",
   "metadata": {},
   "outputs": [
    {
     "name": "stdout",
     "output_type": "stream",
     "text": [
      "  0 1 1 2 3 5 8 13 21 34\n"
     ]
    }
   ],
   "source": [
    "# 2.Write a Python program to generate the Fibonacci sequence up to 10 terms.\n",
    "# Expected Output:\n",
    "# 0 1 1 2 3 5 8 13 21 34\n",
    "\n",
    "def fibonacci_series(term):\n",
    "    a=0\n",
    "    b=1\n",
    "    fibo= \" \"\n",
    "    for i in range(term):\n",
    "        fibo= fibo+ \" \"+ str(a)\n",
    "        a,b=b,a+b\n",
    "    print(fibo)\n",
    "fibonacci_series(10)"
   ]
  },
  {
   "cell_type": "code",
   "execution_count": 13,
   "id": "c656f04a",
   "metadata": {},
   "outputs": [
    {
     "name": "stdin",
     "output_type": "stream",
     "text": [
      "enter the string:  madam\n"
     ]
    },
    {
     "name": "stdout",
     "output_type": "stream",
     "text": [
      "madam is a palindrome\n"
     ]
    }
   ],
   "source": [
    "# 3.Write a Python function to check if a given string is a palindrome.\n",
    "# Expected Output (for input \"madam\"):\n",
    "# madam is a palindrome\n",
    "def ispalindrome(string):\n",
    "    return string==string[::-1]\n",
    "\n",
    "s=input(\"enter the string: \")\n",
    "if ispalindrome(s):\n",
    "    print(f\"{s} is a palindrome\")\n",
    "else:\n",
    "     print(f\"{s} is Not a palindrome\")\n",
    "    \n"
   ]
  },
  {
   "cell_type": "code",
   "execution_count": 19,
   "id": "cd7b0a78",
   "metadata": {},
   "outputs": [
    {
     "name": "stdin",
     "output_type": "stream",
     "text": [
      "enter the string:  education\n"
     ]
    },
    {
     "name": "stdout",
     "output_type": "stream",
     "text": [
      " Number of vowels:  5\n"
     ]
    }
   ],
   "source": [
    "\n",
    "\n",
    "# 4.Write a Python program to count the number of vowels in a given string. \n",
    "# Expected Output (for input \"education\"):\n",
    "\n",
    "# Number of vowels: 5\n",
    "    \n",
    "\n",
    "def countVowels(string):\n",
    "    vowels = ['a','e','i','o','u']\n",
    "    vowel_count=0\n",
    "    for char in string.lower():\n",
    "        if char in vowels:\n",
    "            vowel_count+=1\n",
    "    return vowel_count\n",
    "\n",
    "s=input(\"enter the string: \")\n",
    "print(f\" Number of vowels:  {countVowels(s)}\")\n",
    "\n",
    "\n"
   ]
  },
  {
   "cell_type": "code",
   "execution_count": 20,
   "id": "bdbb9b19",
   "metadata": {},
   "outputs": [
    {
     "name": "stdout",
     "output_type": "stream",
     "text": [
      "[1, 2, 3, 4, 5]\n"
     ]
    }
   ],
   "source": [
    "# 5.Write a Python program to remove duplicates from a list.\n",
    "# Expected Output (for input [1, 2, 2, 3, 4, 4, 5]):\n",
    "\n",
    "#  [1, 2, 3, 4, 5]\n",
    "\n",
    "given_list = [1, 2, 2, 3, 4, 4, 5]\n",
    "print(list(set(given_list)))   \n"
   ]
  }
 ],
 "metadata": {
  "kernelspec": {
   "display_name": "Python 3 (ipykernel)",
   "language": "python",
   "name": "python3"
  },
  "language_info": {
   "codemirror_mode": {
    "name": "ipython",
    "version": 3
   },
   "file_extension": ".py",
   "mimetype": "text/x-python",
   "name": "python",
   "nbconvert_exporter": "python",
   "pygments_lexer": "ipython3",
   "version": "3.13.5"
  }
 },
 "nbformat": 4,
 "nbformat_minor": 5
}
