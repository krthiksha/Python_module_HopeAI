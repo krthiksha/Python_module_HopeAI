{
 "cells": [
  {
   "cell_type": "code",
   "execution_count": 2,
   "id": "90e9fa4e",
   "metadata": {},
   "outputs": [
    {
     "name": "stdout",
     "output_type": "stream",
     "text": [
      "4.0\n"
     ]
    }
   ],
   "source": [
    "#1.Find the error in the following Python code:\n",
    "# import math\n",
    "# print(Math.sqrt(16))\n",
    "\n",
    "# MY ANSWER:\n",
    "\"\"\"  name error - module name is case sensitive \"\"\"\n",
    "import math\n",
    "print(math.sqrt(16))"
   ]
  },
  {
   "cell_type": "code",
   "execution_count": 5,
   "id": "55520fd2",
   "metadata": {},
   "outputs": [
    {
     "name": "stdout",
     "output_type": "stream",
     "text": [
      "15\n"
     ]
    }
   ],
   "source": [
    "#2.Find the error in the following Python code:\n",
    "# def my_function():\n",
    "#     x += 5\n",
    "#     print(x)\n",
    "\n",
    "# x = 10\n",
    "# my_function()\n",
    "\n",
    "\n",
    "# MY ANSWER:\n",
    "\"\"\"  UnboundLocalError :   x is not accessible inside the function ,  x is not passed into the function\"\"\"\n",
    "def my_function(x):\n",
    "    x += 5\n",
    "    print(x)\n",
    "\n",
    "x = 10\n",
    "my_function(x)\n"
   ]
  },
  {
   "cell_type": "code",
   "execution_count": 2,
   "id": "7bac417a-4a0c-40b4-b0cd-fee6c45ab4c9",
   "metadata": {},
   "outputs": [
    {
     "name": "stdout",
     "output_type": "stream",
     "text": [
      "15\n"
     ]
    }
   ],
   "source": [
    "#ans:Issue: x is modified inside the function without being declared as global.\n",
    "# Fixed Code:\n",
    "\n",
    "\n",
    "def my_function():\n",
    "    global x\n",
    "    x += 5\n",
    "    print(x)\n",
    "\n",
    "x = 10\n",
    "my_function()"
   ]
  },
  {
   "cell_type": "code",
   "execution_count": 8,
   "id": "f23899ca",
   "metadata": {},
   "outputs": [
    {
     "name": "stdout",
     "output_type": "stream",
     "text": [
      "x is 10\n"
     ]
    }
   ],
   "source": [
    "#3.x = 5\n",
    "# if x = 10:\n",
    "#     print(\"x is 10\")\n",
    "\n",
    "\n",
    "# MY ANSWER:\n",
    "\"\"\" Use equlity operator (==) instead of assignment operator (=)  \"\"\"\n",
    "if x == 10:\n",
    "    print(\"x is 10\")\n"
   ]
  },
  {
   "cell_type": "code",
   "execution_count": 11,
   "id": "c644c2f2",
   "metadata": {},
   "outputs": [
    {
     "name": "stdout",
     "output_type": "stream",
     "text": [
      "[2, 3, 5, 8]\n"
     ]
    }
   ],
   "source": [
    "#4.\n",
    "# numbers = [5, 3, 8, 2]\n",
    "# print(numbers.sort())\n",
    "\n",
    "\n",
    "# MY ANSWER:\n",
    "\"\"\" sort() is used to sort the list , it won't return the result. It will apply the sort operation on the list. \n",
    "print the list to see the reflected output \"\"\"\n",
    "numbers = [5, 3, 8, 2]\n",
    "numbers.sort()\n",
    "print(numbers)"
   ]
  },
  {
   "cell_type": "code",
   "execution_count": 13,
   "id": "c6bc9bfb",
   "metadata": {},
   "outputs": [
    {
     "name": "stdout",
     "output_type": "stream",
     "text": [
      "16\n"
     ]
    }
   ],
   "source": [
    "#5.\n",
    "# def square(n):\n",
    "#     n * n\n",
    "\n",
    "# print(square(4))\n",
    "\n",
    "\n",
    "# MY ANSWER:\n",
    "\"\"\"  missing return in the function definition \"\"\"\n",
    "def square(n):\n",
    "    return n * n\n",
    "\n",
    "print(square(4))"
   ]
  },
  {
   "cell_type": "code",
   "execution_count": 18,
   "id": "3a9dbcc0",
   "metadata": {},
   "outputs": [
    {
     "data": {
      "text/plain": [
       "(1, 5, 3)"
      ]
     },
     "execution_count": 18,
     "metadata": {},
     "output_type": "execute_result"
    }
   ],
   "source": [
    "#6.\n",
    "# my_tuple = (1, 2, 3)\n",
    "# my_tuple[1] = 5\n",
    "\n",
    "\n",
    "# MY ANSWER:\n",
    "\"\"\"  tuple is immutable , we cannot able to update the tuple. BUT we can do it by converting it into a list (as follows) \"\"\"\n",
    "my_tuple = (1, 2, 3) \n",
    "tuple_list = list(my_tuple)\n",
    "tuple_list[1] = 5\n",
    "my_tuple = tuple(tuple_list)\n",
    "my_tuple\n"
   ]
  },
  {
   "cell_type": "code",
   "execution_count": 20,
   "id": "4a72685b",
   "metadata": {},
   "outputs": [
    {
     "name": "stdout",
     "output_type": "stream",
     "text": [
      "My name is Alice and I am 25 years old\n"
     ]
    }
   ],
   "source": [
    "#7.\n",
    "# name = \"Alice\"\n",
    "# age = 25\n",
    "# print(\"My name is %s and I am %d years old\" % (name))\n",
    "\n",
    "\n",
    "# MY ANSWER:\n",
    "\"\"\"  not passing 'age' while printing the output \"\"\"\n",
    "name = \"Alice\"\n",
    "age = 25\n",
    "print(\"My name is %s and I am %d years old\" % (name, age))\n"
   ]
  },
  {
   "cell_type": "code",
   "execution_count": 24,
   "id": "3de969fe",
   "metadata": {},
   "outputs": [
    {
     "name": "stdout",
     "output_type": "stream",
     "text": [
      "Lists are equal\n"
     ]
    }
   ],
   "source": [
    "#8.\n",
    "# a = [1, 2, 3]\n",
    "# b = [1, 2, 3]\n",
    "# if a is b:\n",
    "#     print(\"Lists are equal\")\n",
    "\n",
    "# MY ANSWER:\n",
    "\"\"\" is - membership operator \n",
    "is - checks the same object in memory \n",
    "but here we need to check the equality of 2 lists that can be achieved using equality operator (==) \"\"\"\n",
    "a = [1, 2, 3]\n",
    "b = [1, 2, 3]\n",
    "if a == b:\n",
    "    print(\"Lists are equal\")"
   ]
  },
  {
   "cell_type": "code",
   "execution_count": 28,
   "id": "dbe38465",
   "metadata": {},
   "outputs": [
    {
     "name": "stdout",
     "output_type": "stream",
     "text": [
      "\n",
      "Approach - 1\n",
      "5\n",
      "4\n",
      "3\n",
      "2\n",
      "\n",
      "Approach - 2\n",
      "1\n",
      "2\n",
      "3\n",
      "4\n"
     ]
    }
   ],
   "source": [
    "#9.\n",
    "# for i in range(5, 1):\n",
    "#     print(i)\n",
    "\n",
    "# MY ANSWER:\n",
    "\"\"\" need to specify 'step' value as the order is from higher value (5) to lower value (1) \"\"\"\n",
    "print(\"\\nApproach - 1\")\n",
    "for i in range(5, 1,-1):\n",
    "    print(i)\n",
    "    \n",
    "    # or\n",
    "\"\"\" change the start and end value in range \"\"\"\n",
    "print(\"\\nApproach - 2\")\n",
    "for i in range(1,5):\n",
    "    print(i)"
   ]
  },
  {
   "cell_type": "code",
   "execution_count": 32,
   "id": "30cb0523",
   "metadata": {},
   "outputs": [
    {
     "name": "stdout",
     "output_type": "stream",
     "text": [
      "John\n"
     ]
    }
   ],
   "source": [
    "#10.\n",
    "# student = {\"name\": \"John\", \"age\": 20}\n",
    "# print(student[name])\n",
    "\n",
    "# MY ANSWER:\n",
    "\"\"\" missing the double quotes while representing the key -- 'name' . as it is string type - double quotes need to be mentioned \"\"\"\n",
    "student = {\"name\": \"John\", \"age\": 20}\n",
    "print(student[\"name\"])\n"
   ]
  },
  {
   "cell_type": "code",
   "execution_count": null,
   "id": "02355b62-60df-4260-aae2-8b239b21b55b",
   "metadata": {},
   "outputs": [],
   "source": []
  }
 ],
 "metadata": {
  "kernelspec": {
   "display_name": "Python 3 (ipykernel)",
   "language": "python",
   "name": "python3"
  },
  "language_info": {
   "codemirror_mode": {
    "name": "ipython",
    "version": 3
   },
   "file_extension": ".py",
   "mimetype": "text/x-python",
   "name": "python",
   "nbconvert_exporter": "python",
   "pygments_lexer": "ipython3",
   "version": "3.13.5"
  }
 },
 "nbformat": 4,
 "nbformat_minor": 5
}
