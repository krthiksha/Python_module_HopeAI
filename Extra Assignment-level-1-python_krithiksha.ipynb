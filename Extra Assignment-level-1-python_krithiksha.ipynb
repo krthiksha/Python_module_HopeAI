{
 "cells": [
  {
   "cell_type": "markdown",
   "id": "acaf9052-e624-44f7-b1c6-bd7af19031ef",
   "metadata": {},
   "source": [
    "<b>Extra Assignment-level-1-python"
   ]
  },
  {
   "cell_type": "code",
   "execution_count": 1,
   "id": "e7288dc3-d7e4-4a7f-b76f-eba9e41365aa",
   "metadata": {},
   "outputs": [
    {
     "name": "stdout",
     "output_type": "stream",
     "text": [
      "HOPE AI\n"
     ]
    }
   ],
   "source": [
    "# print statement\n",
    "print(\"HOPE AI\")"
   ]
  },
  {
   "cell_type": "code",
   "execution_count": 2,
   "id": "29730c9d-8010-493f-acd4-4801f2e75695",
   "metadata": {},
   "outputs": [
    {
     "name": "stdin",
     "output_type": "stream",
     "text": [
      "Enter your institute name? :  HopeAI\n"
     ]
    }
   ],
   "source": [
    "# get input\n",
    "string = input(\"Enter your institute name? : \")"
   ]
  },
  {
   "cell_type": "code",
   "execution_count": 3,
   "id": "1f99b62d-a75a-4533-bc7c-69ea79b75efe",
   "metadata": {},
   "outputs": [
    {
     "name": "stdin",
     "output_type": "stream",
     "text": [
      "Enter your name:  john\n",
      "Enter your age:  55\n",
      "Enter your school name:  sms\n",
      "Enter your degree:  BE CSE\n"
     ]
    }
   ],
   "source": [
    "# get multiple inputs\n",
    "name=input(\"Enter your name: \")\n",
    "age=input(\"Enter your age: \")\n",
    "school_name=input(\"Enter your school name: \")\n",
    "degree=input(\"Enter your degree: \")"
   ]
  },
  {
   "cell_type": "code",
   "execution_count": 4,
   "id": "528f0a86-fefa-4a78-b60f-f97c5a58f1e5",
   "metadata": {},
   "outputs": [
    {
     "name": "stdout",
     "output_type": "stream",
     "text": [
      "a= 43\n",
      "b= 34\n",
      "add= 77\n"
     ]
    }
   ],
   "source": [
    "# addition\n",
    "a=43\n",
    "b=34\n",
    "print(\"a=\",a)\n",
    "print(\"b=\",b)\n",
    "print(\"add=\",a+b)"
   ]
  },
  {
   "cell_type": "code",
   "execution_count": 5,
   "id": "fd606963-4cbb-4fe4-b19b-d2fc93be2994",
   "metadata": {},
   "outputs": [
    {
     "name": "stdout",
     "output_type": "stream",
     "text": [
      "a= 43\n",
      "b= 34\n",
      "Sub= 9\n"
     ]
    }
   ],
   "source": [
    "# subtraction\n",
    "a=43\n",
    "b=34\n",
    "print(\"a=\",a)\n",
    "print(\"b=\",b)\n",
    "print(\"Sub=\",a-b)"
   ]
  },
  {
   "cell_type": "code",
   "execution_count": 8,
   "id": "8ac323b2-7184-4db1-ab2f-62000417b954",
   "metadata": {},
   "outputs": [
    {
     "name": "stdout",
     "output_type": "stream",
     "text": [
      "a= 63\n",
      "b= 97\n",
      "Mul= 6111\n"
     ]
    }
   ],
   "source": [
    "# multiplication\n",
    "a=63\n",
    "b=97\n",
    "print(\"a=\",a)\n",
    "print(\"b=\",b)\n",
    "print(\"Mul=\",a*b)"
   ]
  },
  {
   "cell_type": "code",
   "execution_count": 12,
   "id": "beed05ec-5eac-4f1a-bfbf-7a9269ba3932",
   "metadata": {},
   "outputs": [
    {
     "name": "stdout",
     "output_type": "stream",
     "text": [
      "a= 76\n",
      "b= 31\n",
      "Float Div= 2.4516129032258065\n"
     ]
    }
   ],
   "source": [
    "# division\n",
    "a=76\n",
    "b=31\n",
    "print(\"a=\",a)\n",
    "print(\"b=\",b)\n",
    "print(\"Float Div=\",a/b)  #return quotient with decimals"
   ]
  },
  {
   "cell_type": "code",
   "execution_count": 13,
   "id": "f7fccd8a-4ddd-4994-a178-a33277cb49ef",
   "metadata": {},
   "outputs": [
    {
     "name": "stdout",
     "output_type": "stream",
     "text": [
      "a= 76\n",
      "b= 31\n",
      "Float Div= 2\n"
     ]
    }
   ],
   "source": [
    "# floor division\n",
    "a=76\n",
    "b=31\n",
    "print(\"a=\",a)\n",
    "print(\"b=\",b)\n",
    "print(\"Float Div=\",a//b) #return quotient without its decimals"
   ]
  },
  {
   "cell_type": "code",
   "execution_count": 11,
   "id": "ee65eefa-10e4-4873-b106-1ded63b13f94",
   "metadata": {},
   "outputs": [
    {
     "name": "stdout",
     "output_type": "stream",
     "text": [
      "a= 76\n",
      "b= 31\n",
      "modulo= 14\n"
     ]
    }
   ],
   "source": [
    "# modulo\n",
    "a=76\n",
    "b=31\n",
    "print(\"a=\",a)\n",
    "print(\"b=\",b)\n",
    "print(\"modulo=\",a%b)"
   ]
  },
  {
   "cell_type": "code",
   "execution_count": 15,
   "id": "0da4b260-9a88-46c3-945d-9caf27209345",
   "metadata": {},
   "outputs": [
    {
     "name": "stdout",
     "output_type": "stream",
     "text": [
      "a= 4\n",
      "b= 4\n",
      "Power 256\n"
     ]
    }
   ],
   "source": [
    "# power \n",
    "a=4\n",
    "b=4\n",
    "print(\"a=\",a)\n",
    "print(\"b=\",b)\n",
    "print(\"Power\",a**b)"
   ]
  },
  {
   "cell_type": "code",
   "execution_count": 17,
   "id": "f4408deb-3e4c-4d88-a501-9673aad2d3fb",
   "metadata": {},
   "outputs": [
    {
     "name": "stdout",
     "output_type": "stream",
     "text": [
      "a= 4\n",
      "b= 4\n",
      "Power 256.0\n"
     ]
    }
   ],
   "source": [
    "# power  -- approach 2\n",
    "import math\n",
    "a=4\n",
    "b=4\n",
    "print(\"a=\",a)\n",
    "print(\"b=\",b)\n",
    "print(\"Power\",math.pow(a,b))"
   ]
  },
  {
   "cell_type": "code",
   "execution_count": null,
   "id": "44586357-d948-42f9-8dd0-403d2471fc1b",
   "metadata": {},
   "outputs": [],
   "source": []
  }
 ],
 "metadata": {
  "kernelspec": {
   "display_name": "Python 3 (ipykernel)",
   "language": "python",
   "name": "python3"
  },
  "language_info": {
   "codemirror_mode": {
    "name": "ipython",
    "version": 3
   },
   "file_extension": ".py",
   "mimetype": "text/x-python",
   "name": "python",
   "nbconvert_exporter": "python",
   "pygments_lexer": "ipython3",
   "version": "3.13.5"
  }
 },
 "nbformat": 4,
 "nbformat_minor": 5
}
