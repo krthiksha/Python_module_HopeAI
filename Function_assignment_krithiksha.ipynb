{
 "cells": [
  {
   "cell_type": "markdown",
   "id": "8d162738-1bba-48ba-a6e2-00dde7b9fb66",
   "metadata": {},
   "source": [
    "<b> Function assignments "
   ]
  },
  {
   "cell_type": "code",
   "execution_count": 2,
   "id": "5b89941b-564c-4fe2-b8ac-9287c605cb28",
   "metadata": {},
   "outputs": [
    {
     "name": "stdout",
     "output_type": "stream",
     "text": [
      "Sub-fields in AI are: \n",
      "Machine learning\n",
      "Neural Networks\n",
      "Vision\n",
      "Robotics\n",
      "Speech Processing\n",
      "Natural Language Processing\n"
     ]
    }
   ],
   "source": [
    "# create a function and list out the items in the list\n",
    "def Subfields():\n",
    "    ai_subfields = [\"Machine learning\",\"Neural Networks\",\"Vision\",\"Robotics\",\"Speech Processing\",\"Natural Language Processing\"]\n",
    "    print(\"Sub-fields in AI are: \")\n",
    "    for domain in ai_subfields:\n",
    "        print(domain)\n",
    "Subfields()"
   ]
  },
  {
   "cell_type": "code",
   "execution_count": 11,
   "id": "4e1abe90-4bf5-4039-bea0-b809226a928d",
   "metadata": {},
   "outputs": [
    {
     "name": "stdin",
     "output_type": "stream",
     "text": [
      "Enter a number:  52\n"
     ]
    },
    {
     "name": "stdout",
     "output_type": "stream",
     "text": [
      "52 is Even number\n"
     ]
    }
   ],
   "source": [
    "# Create a function that checks whether the given number is odd or even \n",
    "def OddEven():\n",
    "    number = int(input(\"Enter a number: \"))\n",
    "    print(f\"{number} is Even number\") if (number%2==0) else print(f\"{number} is Odd number\")\n",
    "OddEven()"
   ]
  },
  {
   "cell_type": "code",
   "execution_count": 5,
   "id": "766019de-8caf-4948-9e66-22695743981d",
   "metadata": {},
   "outputs": [
    {
     "name": "stdin",
     "output_type": "stream",
     "text": [
      "Your Gender:  Male\n",
      "Your Age:  20\n"
     ]
    },
    {
     "data": {
      "text/plain": [
       "' NOT ELIGIBLE'"
      ]
     },
     "execution_count": 5,
     "metadata": {},
     "output_type": "execute_result"
    }
   ],
   "source": [
    "# create a function that tells elegibility of marriage for male and female according to their age limit like 21 for male and 18 for female\n",
    "def Elegible():\n",
    "    gender=input(\"Your Gender: \").lower()\n",
    "    age=int(input(\"Your Age: \"))\n",
    "    if gender==\"male\" and age>=21:\n",
    "        eligibility=\"ELIGIBLE\"\n",
    "    elif gender==\"female\" and age>=18:\n",
    "        eligibility=\"ELIGIBLE\"\n",
    "    else:\n",
    "        eligibility=\" NOT ELIGIBLE\"\n",
    "    return eligibility\n",
    "Elegible()"
   ]
  },
  {
   "cell_type": "code",
   "execution_count": 4,
   "id": "c5c2e3b9-d4c4-48b8-87f3-c60e0a463826",
   "metadata": {},
   "outputs": [
    {
     "name": "stdin",
     "output_type": "stream",
     "text": [
      "Subject_1 mark:  98\n",
      "Subject_2 mark:  87\n",
      "Subject_3 mark:  95\n",
      "Subject_4 mark:  95\n",
      "Subject_5 mark:  93\n"
     ]
    },
    {
     "name": "stdout",
     "output_type": "stream",
     "text": [
      "Total:  468\n",
      "Percentage:  93.6\n"
     ]
    }
   ],
   "source": [
    "# calculate the percentage of your 10th mark \n",
    "def percentage():\n",
    "    try:\n",
    "        subject_marks = {}  # store all marks in dictionary\n",
    "        for i in range(1,6):\n",
    "            subject_marks[f\"subject_{i}\"]=int(input(f\"Subject_{i} mark: \"))\n",
    "        total_marks = sum(subject_marks.values())\n",
    "        percentage = total_marks/5\n",
    "        print(\"Total: \",total_marks)\n",
    "        print(\"Percentage: \",percentage)\n",
    "    except ValueError as err:\n",
    "        print(\"Please enter a valid mark in integer!. Error: \",err)\n",
    "percentage()"
   ]
  },
  {
   "cell_type": "code",
   "execution_count": 2,
   "id": "4580547d-a9a2-45fb-90ab-0311b593c619",
   "metadata": {},
   "outputs": [
    {
     "name": "stdin",
     "output_type": "stream",
     "text": [
      "height of triangle :  32\n",
      "breadth of triangle :  34\n"
     ]
    },
    {
     "name": "stdout",
     "output_type": "stream",
     "text": [
      "Area formula:  (height*breadth)/2\n",
      "Area of triangle:  544.0\n"
     ]
    },
    {
     "name": "stdin",
     "output_type": "stream",
     "text": [
      "\n",
      "side1 of triangle :  2\n",
      "side2 of triangle :  4\n",
      "base_side of triangle :  4\n"
     ]
    },
    {
     "name": "stdout",
     "output_type": "stream",
     "text": [
      "Perimeter formula:  side1+side2+base_side \n",
      "Perimeter of triangle:  10\n"
     ]
    }
   ],
   "source": [
    "# print area and perimeter of triangle using functions\n",
    "def triangle():\n",
    "    # area\n",
    "    height=int(input(\"height of triangle : \"))\n",
    "    breadth=int(input(\"breadth of triangle : \"))\n",
    "    area_formula = \"(height*breadth)/2\"\n",
    "    area_of_triangle = (height*breadth)/2\n",
    "    print(\"Area formula: \", area_formula)\n",
    "    print(\"Area of triangle: \",area_of_triangle)\n",
    "    \n",
    "    # perimeter\n",
    "    side1=int(input(\"\\nside1 of triangle : \"))\n",
    "    side2=int(input(\"side2 of triangle : \"))\n",
    "    base_side=int(input(\"base_side of triangle : \"))\n",
    "    perimeter_formula=\"side1+side2+base_side \"\n",
    "    perimeter_of_triangle=side1+side2+base_side \n",
    "    print(\"Perimeter formula: \", perimeter_formula)\n",
    "    print(\"Perimeter of triangle: \", perimeter_of_triangle)\n",
    "\n",
    "triangle()"
   ]
  },
  {
   "cell_type": "code",
   "execution_count": null,
   "id": "a56db64c-130d-41e0-b6c4-9daead716dad",
   "metadata": {},
   "outputs": [],
   "source": []
  },
  {
   "cell_type": "code",
   "execution_count": null,
   "id": "1ff441e2-0db2-435a-9feb-8ce87a077b59",
   "metadata": {},
   "outputs": [],
   "source": []
  },
  {
   "cell_type": "code",
   "execution_count": null,
   "id": "a4c6bd62-b24c-4f67-9f86-8a14805560e7",
   "metadata": {},
   "outputs": [],
   "source": []
  },
  {
   "cell_type": "code",
   "execution_count": null,
   "id": "ba260e58-9c7c-48c9-b701-a1a3501c79b1",
   "metadata": {},
   "outputs": [],
   "source": []
  },
  {
   "cell_type": "code",
   "execution_count": null,
   "id": "c66d0058-9112-44a8-bd1d-114139bf4e35",
   "metadata": {},
   "outputs": [],
   "source": []
  },
  {
   "cell_type": "code",
   "execution_count": null,
   "id": "23be2e16-a115-4e87-86f2-59b9ce088f76",
   "metadata": {},
   "outputs": [],
   "source": []
  },
  {
   "cell_type": "code",
   "execution_count": null,
   "id": "eb38f6f1-dd93-4321-9c5c-bf5d80081ba9",
   "metadata": {},
   "outputs": [],
   "source": []
  },
  {
   "cell_type": "code",
   "execution_count": null,
   "id": "2bcf8095-deca-4006-b5b0-5da2562f254b",
   "metadata": {},
   "outputs": [],
   "source": []
  },
  {
   "cell_type": "code",
   "execution_count": null,
   "id": "de514221-3d63-480d-a124-48f8413fd7ed",
   "metadata": {},
   "outputs": [],
   "source": []
  },
  {
   "cell_type": "code",
   "execution_count": null,
   "id": "2e111cf0-e9af-4c47-83e9-bfd720877628",
   "metadata": {},
   "outputs": [],
   "source": []
  },
  {
   "cell_type": "code",
   "execution_count": null,
   "id": "29fcfdce-62e9-46f1-a58c-fcb86071021f",
   "metadata": {},
   "outputs": [],
   "source": []
  },
  {
   "cell_type": "code",
   "execution_count": null,
   "id": "d0a397a9-c834-48f9-8694-134424515a15",
   "metadata": {},
   "outputs": [],
   "source": []
  },
  {
   "cell_type": "code",
   "execution_count": null,
   "id": "2085d254-4a6e-4543-a622-809a935c7092",
   "metadata": {},
   "outputs": [],
   "source": []
  },
  {
   "cell_type": "code",
   "execution_count": null,
   "id": "b6f5f214-664c-4fb4-8264-16a65e1f3d3a",
   "metadata": {},
   "outputs": [],
   "source": []
  },
  {
   "cell_type": "code",
   "execution_count": null,
   "id": "1544d9bb-dd53-4fac-a5b7-5dbeb8658abc",
   "metadata": {},
   "outputs": [],
   "source": []
  },
  {
   "cell_type": "code",
   "execution_count": null,
   "id": "1c099a1e-e554-4ebd-9c7a-b17cff69a067",
   "metadata": {},
   "outputs": [],
   "source": []
  }
 ],
 "metadata": {
  "kernelspec": {
   "display_name": "Python 3 (ipykernel)",
   "language": "python",
   "name": "python3"
  },
  "language_info": {
   "codemirror_mode": {
    "name": "ipython",
    "version": 3
   },
   "file_extension": ".py",
   "mimetype": "text/x-python",
   "name": "python",
   "nbconvert_exporter": "python",
   "pygments_lexer": "ipython3",
   "version": "3.13.5"
  }
 },
 "nbformat": 4,
 "nbformat_minor": 5
}
