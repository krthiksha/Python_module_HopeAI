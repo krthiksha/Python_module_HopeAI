{
 "cells": [
  {
   "cell_type": "markdown",
   "id": "9cce69c2-cfe6-4627-be2d-4ecbd71b810d",
   "metadata": {},
   "source": [
    "<b>Extra Assignment-2-Level-2-python"
   ]
  },
  {
   "cell_type": "code",
   "execution_count": 2,
   "id": "f1cbee41-cae6-43b1-9315-ce9ea7347524",
   "metadata": {},
   "outputs": [
    {
     "name": "stdout",
     "output_type": "stream",
     "text": [
      "0\n",
      "1\n",
      "2\n",
      "3\n",
      "4\n",
      "5\n",
      "6\n",
      "7\n",
      "8\n",
      "9\n",
      "10\n",
      "11\n",
      "12\n",
      "13\n",
      "14\n",
      "15\n",
      "16\n",
      "17\n",
      "18\n",
      "19\n"
     ]
    }
   ],
   "source": [
    "# print 0 to 20 by using range\n",
    "for i in range(0,20):\n",
    "    print(i)"
   ]
  },
  {
   "cell_type": "code",
   "execution_count": 3,
   "id": "6ee9e011-e6bf-4b93-8f1d-e76c31e7d5cf",
   "metadata": {},
   "outputs": [
    {
     "name": "stdout",
     "output_type": "stream",
     "text": [
      "10\n",
      "11\n",
      "12\n",
      "13\n",
      "14\n",
      "15\n",
      "16\n",
      "17\n",
      "18\n",
      "19\n"
     ]
    }
   ],
   "source": [
    "# print range 10 to 20 \n",
    "for i in range(10,20):\n",
    "    print(i)"
   ]
  },
  {
   "cell_type": "code",
   "execution_count": 7,
   "id": "31bbcecd-3c9d-4c4a-b8be-baab0f80f8bd",
   "metadata": {},
   "outputs": [
    {
     "name": "stdout",
     "output_type": "stream",
     "text": [
      "[10, 20, 14, 55, 43, 87, 76] \n",
      " Number of item in the List2: \n",
      " 7\n"
     ]
    }
   ],
   "source": [
    "# print number of items in the list by using 'len'\n",
    "given_list = [10,20,14,55,43,87,76]\n",
    "print(given_list,\"\\n\",\"Number of item in the List2: \\n\", len(given_list))"
   ]
  },
  {
   "cell_type": "code",
   "execution_count": 9,
   "id": "c32a06c1-0e10-4872-852d-65027ceb625a",
   "metadata": {},
   "outputs": [
    {
     "name": "stdout",
     "output_type": "stream",
     "text": [
      "Artificial Intelligence\n",
      "A\n",
      "r\n",
      "t\n",
      "i\n",
      "f\n",
      "i\n",
      "c\n",
      "i\n",
      "a\n",
      "l\n",
      " \n",
      "I\n",
      "n\n",
      "t\n",
      "e\n",
      "l\n",
      "l\n",
      "i\n",
      "g\n",
      "e\n",
      "n\n",
      "c\n",
      "e\n"
     ]
    }
   ],
   "source": [
    "string = \"Artificial Intelligence\"\n",
    "print(string)\n",
    "for char in string:\n",
    "    print(char)"
   ]
  },
  {
   "cell_type": "code",
   "execution_count": 10,
   "id": "21ef023e-06c6-476e-b1df-5a97519ca36e",
   "metadata": {},
   "outputs": [
    {
     "name": "stdout",
     "output_type": "stream",
     "text": [
      "-john-\n",
      "-55-\n",
      "-Software engineer-\n"
     ]
    }
   ],
   "source": [
    "profile=[\"john\",55,\"Software engineer\"]\n",
    "for item in profile:\n",
    "    print(f\"-{item}-\")"
   ]
  },
  {
   "cell_type": "code",
   "execution_count": 12,
   "id": "e5974129-47bc-4650-a28b-816d05970687",
   "metadata": {},
   "outputs": [
    {
     "name": "stdout",
     "output_type": "stream",
     "text": [
      "(1, 'Welcome', 2, 'Hope')\n"
     ]
    }
   ],
   "source": [
    "# print the mixered datatype using tuple \n",
    "tuple1=(1,'Welcome',2,'Hope')\n",
    "print(tuple1)"
   ]
  },
  {
   "cell_type": "code",
   "execution_count": 13,
   "id": "2daf55f8-b122-4e54-aed2-5905471d0b43",
   "metadata": {},
   "outputs": [
    {
     "name": "stdout",
     "output_type": "stream",
     "text": [
      "((0, 1, 2, 3), ('python', 'HOPE'))\n"
     ]
    }
   ],
   "source": [
    "Tuple1=(0,1,2,3)\n",
    "Tuple2=('python','HOPE')\n",
    "Tuple3=(Tuple1,Tuple2)\n",
    "print(Tuple3)"
   ]
  },
  {
   "cell_type": "code",
   "execution_count": 15,
   "id": "acf3bf41-f9eb-4833-8e56-946852f9c0b9",
   "metadata": {},
   "outputs": [
    {
     "name": "stdout",
     "output_type": "stream",
     "text": [
      "(20, 10, 16, 19, 25, 1, 276, 188)\n",
      "19  is odd\n",
      "25  is odd\n",
      "1  is odd\n"
     ]
    }
   ],
   "source": [
    "# print odd numbers in the list\n",
    "given_list = [20,10,16,19,25,1,276,188]\n",
    "print(tuple(given_list))\n",
    "for item in given_list:\n",
    "    if (item%2 != 0):\n",
    "        print(item, \" is odd\")"
   ]
  },
  {
   "cell_type": "code",
   "execution_count": 16,
   "id": "abfc3b06-34dc-46e9-b309-2b9b8b3ea07f",
   "metadata": {},
   "outputs": [
    {
     "name": "stdout",
     "output_type": "stream",
     "text": [
      "(20, 10, 16, 19, 25, 1, 276, 188)\n",
      "20  is even\n",
      "10  is even\n",
      "16  is even\n",
      "276  is even\n",
      "188  is even\n"
     ]
    }
   ],
   "source": [
    "# print even numbers in the list\n",
    "given_list = [20,10,16,19,25,1,276,188]\n",
    "print(tuple(given_list))\n",
    "for item in given_list:\n",
    "    if (item%2 == 0):\n",
    "        print(item, \" is even\")"
   ]
  }
 ],
 "metadata": {
  "kernelspec": {
   "display_name": "Python 3 (ipykernel)",
   "language": "python",
   "name": "python3"
  },
  "language_info": {
   "codemirror_mode": {
    "name": "ipython",
    "version": 3
   },
   "file_extension": ".py",
   "mimetype": "text/x-python",
   "name": "python",
   "nbconvert_exporter": "python",
   "pygments_lexer": "ipython3",
   "version": "3.13.5"
  }
 },
 "nbformat": 4,
 "nbformat_minor": 5
}
