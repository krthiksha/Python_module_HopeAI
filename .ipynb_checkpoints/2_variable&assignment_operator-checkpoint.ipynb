{
 "cells": [
  {
   "cell_type": "code",
   "execution_count": null,
   "id": "c597ae60",
   "metadata": {},
   "outputs": [
    {
     "ename": "",
     "evalue": "",
     "output_type": "error",
     "traceback": [
      "\u001b[1;31mRunning cells with 'Python 3.11.5' requires the ipykernel package.\n",
      "\u001b[1;31m<a href='command:jupyter.createPythonEnvAndSelectController'>Create a Python Environment</a> with the required packages.\n",
      "\u001b[1;31mOr install 'ipykernel' using the command: 'c:/Python311/python.exe -m pip install ipykernel -U --user --force-reinstall'"
     ]
    }
   ],
   "source": [
    "num1=90\n",
    "num2=20\n",
    "add_result = num1 + num2\n",
    "sub_result = num1 - num2\n",
    "print(\"add_result : \",add_result)\n",
    "print(\"sub_result : \",sub_result)"
   ]
  },
  {
   "cell_type": "markdown",
   "id": "6356313b",
   "metadata": {},
   "source": [
    "OutPut: <br>\n",
    "The addition of two numbers <br>\n",
    "The number 1 : 10 <br>\n",
    "The number 2 : 20 <br>\n",
    "The answer : 30"
   ]
  },
  {
   "cell_type": "code",
   "execution_count": null,
   "id": "9fa82ede",
   "metadata": {},
   "outputs": [],
   "source": [
    "print(\"The addition of two numbers\")\n",
    "num1=10\n",
    "print(\"The number 1: \",num1)\n",
    "num2=20\n",
    "print(\"The number 2: \",num2)\n",
    "print(\"The answer: \",num1+num2)\n"
   ]
  }
 ],
 "metadata": {
  "kernelspec": {
   "display_name": "Python 3",
   "language": "python",
   "name": "python3"
  },
  "language_info": {
   "name": "python",
   "version": "3.11.5"
  }
 },
 "nbformat": 4,
 "nbformat_minor": 5
}
