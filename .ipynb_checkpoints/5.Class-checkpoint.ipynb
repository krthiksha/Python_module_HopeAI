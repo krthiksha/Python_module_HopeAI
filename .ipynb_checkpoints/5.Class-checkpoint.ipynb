{
 "cells": [
  {
   "cell_type": "markdown",
   "id": "a89c1fdd-f06e-4473-ad64-a8ce321aed02",
   "metadata": {},
   "source": [
    "<b>Class - 1  => hands on practice "
   ]
  },
  {
   "cell_type": "code",
   "execution_count": 7,
   "id": "5c7e52c8-f59d-4a61-ae72-b695367ffa80",
   "metadata": {},
   "outputs": [],
   "source": [
    "class Calculator():\n",
    "    def addition(a,b):\n",
    "        add=a+b\n",
    "        return add\n",
    "    def subraction(a,b):\n",
    "        sub=a-b\n",
    "        return sub\n",
    "    def multiplication(a,b):\n",
    "        mul=a*b\n",
    "        return mul"
   ]
  },
  {
   "cell_type": "code",
   "execution_count": 21,
   "id": "43bba2cb-059e-40cd-bf58-06cb2a156462",
   "metadata": {},
   "outputs": [
    {
     "data": {
      "text/plain": [
       "4"
      ]
     },
     "execution_count": 21,
     "metadata": {},
     "output_type": "execute_result"
    }
   ],
   "source": [
    "result1=Calculator.addition(2,2)\n",
    "result1"
   ]
  },
  {
   "cell_type": "code",
   "execution_count": 22,
   "id": "c1f4de09-51b6-4a8b-9335-fca7d08dde43",
   "metadata": {},
   "outputs": [
    {
     "data": {
      "text/plain": [
       "0"
      ]
     },
     "execution_count": 22,
     "metadata": {},
     "output_type": "execute_result"
    }
   ],
   "source": [
    "result2=Calculator.subraction(2,2)\n",
    "result2"
   ]
  },
  {
   "cell_type": "code",
   "execution_count": 23,
   "id": "50675928-2107-4570-85f9-f6a2163cbaf5",
   "metadata": {},
   "outputs": [
    {
     "data": {
      "text/plain": [
       "16"
      ]
     },
     "execution_count": 23,
     "metadata": {},
     "output_type": "execute_result"
    }
   ],
   "source": [
    "result3=Calculator.multiplication(2,8)\n",
    "result3"
   ]
  },
  {
   "cell_type": "markdown",
   "id": "aac84e20-a6ca-4407-bc40-28f38bc9891e",
   "metadata": {},
   "source": [
    "<b>Class - 2  => hands on practice "
   ]
  },
  {
   "cell_type": "code",
   "execution_count": 24,
   "id": "ef175ee3-d1fe-451f-93d0-9acd9c01dae7",
   "metadata": {},
   "outputs": [],
   "source": [
    "# simple declaration of the class\n",
    "class MultipleFunctions():\n",
    "    def age_category(age):\n",
    "        if age < 18:\n",
    "            print(\"Hello Children!\")\n",
    "            category = \"Children\" \n",
    "        elif (age>18 and age<35):\n",
    "            print(\"Hey Adult!\")\n",
    "            category = \"Adult\"\n",
    "        elif (age>35 and age<59):\n",
    "            print(\"Hey Citizen!\")\n",
    "            category = \"Citizen\"\n",
    "        else:\n",
    "            print(\"Hey Senior Citizen!\")\n",
    "            category = \"Senior Citizen\"\n",
    "        return category\n",
    "    def BodyMassIndex():\n",
    "        BMI=float(input(\"Enter the BMI index: \"))\n",
    "        if BMI<18.5:\n",
    "            print(\"Underweight\")\n",
    "            message = \" Underweight\"\n",
    "        elif BMI>18.5 and BMI<24.9:\n",
    "            print(\"Optimum range\")\n",
    "            message = \"Optimum range \"\n",
    "        elif BMI>25 and BMI<29.9:\n",
    "            print(\"Over weight\")\n",
    "            message = \"Over weight \"\n",
    "        elif BMI>30 and BMI<34.9:\n",
    "            print(\"Class I Obesity\")\n",
    "            message = \"Class I Obesity \"\n",
    "        elif BMI>35 and BMI<39.9:\n",
    "            print(\"Class II Obesity\")\n",
    "            message = \" Class II Obesity\"\n",
    "        else:\n",
    "            print(\"Class III Obesity\")\n",
    "            message = \" Class III Obesity\"\n",
    "        return message"
   ]
  },
  {
   "cell_type": "code",
   "execution_count": 27,
   "id": "8e849d88-a122-4b7b-9ac4-7db5da301916",
   "metadata": {},
   "outputs": [
    {
     "name": "stdin",
     "output_type": "stream",
     "text": [
      "Enter the BMI index:  45\n"
     ]
    },
    {
     "name": "stdout",
     "output_type": "stream",
     "text": [
      "Class III Obesity\n"
     ]
    },
    {
     "data": {
      "text/plain": [
       "' Class III Obesity'"
      ]
     },
     "execution_count": 27,
     "metadata": {},
     "output_type": "execute_result"
    }
   ],
   "source": [
    "# using class\n",
    "MultipleFunctions.BodyMassIndex()"
   ]
  },
  {
   "cell_type": "markdown",
   "id": "d8371374-5350-4b2b-a5e2-31a11c5b3bb2",
   "metadata": {},
   "source": [
    "<b>Class - 3  => hands on practice "
   ]
  },
  {
   "cell_type": "code",
   "execution_count": 28,
   "id": "a7790313-9294-4529-b06d-de6815c2b012",
   "metadata": {},
   "outputs": [],
   "source": [
    "# importing the funcions from class library \n",
    "# Syntax: from <fileName> import <ClassName>\n",
    "from classLibrary_1 import MultipleFunctionsUserDefined"
   ]
  },
  {
   "cell_type": "code",
   "execution_count": 29,
   "id": "f05d4483-d168-4e9f-8254-f57bd404e026",
   "metadata": {},
   "outputs": [
    {
     "data": {
      "text/plain": [
       "'Odd'"
      ]
     },
     "execution_count": 29,
     "metadata": {},
     "output_type": "execute_result"
    }
   ],
   "source": [
    "# syntax: className.functionName()\n",
    "MultipleFunctionsUserDefined.OddEven(3)"
   ]
  },
  {
   "cell_type": "code",
   "execution_count": 30,
   "id": "ac9378dc-0251-4b65-bccb-d61f14591497",
   "metadata": {},
   "outputs": [
    {
     "data": {
      "text/plain": [
       "90"
      ]
     },
     "execution_count": 30,
     "metadata": {},
     "output_type": "execute_result"
    }
   ],
   "source": [
    "MultipleFunctionsUserDefined.addition(89,1)"
   ]
  },
  {
   "cell_type": "code",
   "execution_count": 32,
   "id": "b860f2f2-7f4c-492e-8ad7-fe826868a795",
   "metadata": {},
   "outputs": [
    {
     "name": "stdout",
     "output_type": "stream",
     "text": [
      "Hello Children!\n"
     ]
    },
    {
     "data": {
      "text/plain": [
       "'Children'"
      ]
     },
     "execution_count": 32,
     "metadata": {},
     "output_type": "execute_result"
    }
   ],
   "source": [
    "MultipleFunctionsUserDefined.age_category(2)"
   ]
  },
  {
   "cell_type": "code",
   "execution_count": null,
   "id": "7672dde7-bb54-492b-af59-48a6c6fcf6ec",
   "metadata": {},
   "outputs": [],
   "source": []
  },
  {
   "cell_type": "code",
   "execution_count": null,
   "id": "9baa5e66-d21f-4c2e-af3b-4ae2f1bf6d88",
   "metadata": {},
   "outputs": [],
   "source": []
  },
  {
   "cell_type": "code",
   "execution_count": null,
   "id": "64f36e87-2fb5-47ff-abf1-f2e09f45e6c1",
   "metadata": {},
   "outputs": [],
   "source": []
  },
  {
   "cell_type": "code",
   "execution_count": null,
   "id": "5ea5e0c1-9d16-4321-a3ac-d7119f0fafbf",
   "metadata": {},
   "outputs": [],
   "source": []
  },
  {
   "cell_type": "code",
   "execution_count": null,
   "id": "2f11e550-5664-40b9-908f-5647a72f294e",
   "metadata": {},
   "outputs": [],
   "source": []
  }
 ],
 "metadata": {
  "kernelspec": {
   "display_name": "Python 3 (ipykernel)",
   "language": "python",
   "name": "python3"
  },
  "language_info": {
   "codemirror_mode": {
    "name": "ipython",
    "version": 3
   },
   "file_extension": ".py",
   "mimetype": "text/x-python",
   "name": "python",
   "nbconvert_exporter": "python",
   "pygments_lexer": "ipython3",
   "version": "3.13.5"
  }
 },
 "nbformat": 4,
 "nbformat_minor": 5
}
