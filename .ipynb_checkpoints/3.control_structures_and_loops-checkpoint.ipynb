{
 "cells": [
  {
   "cell_type": "markdown",
   "id": "e0016953-d979-4f48-b4dc-c2b771bcd829",
   "metadata": {},
   "source": [
    "<b>If statement"
   ]
  },
  {
   "cell_type": "code",
   "execution_count": 9,
   "id": "90460b74-e1ea-4120-b7f9-4d99ead99792",
   "metadata": {},
   "outputs": [
    {
     "name": "stdout",
     "output_type": "stream",
     "text": [
      "yes I am 18\n"
     ]
    }
   ],
   "source": [
    "# If\n",
    "age=18\n",
    "if(age==18):\n",
    "    print(\"yes I am 18\")"
   ]
  },
  {
   "cell_type": "markdown",
   "id": "c4c08fd0-b35b-45d2-8397-b0f0ea1464ee",
   "metadata": {},
   "source": [
    "<b>Indentation"
   ]
  },
  {
   "cell_type": "code",
   "execution_count": 5,
   "id": "569d9bef-4de5-465d-b6ca-732aaa80c4e9",
   "metadata": {},
   "outputs": [
    {
     "name": "stdout",
     "output_type": "stream",
     "text": [
      "yes I am 18\n",
      "0\n",
      "1\n",
      "2\n",
      "3\n",
      "4\n",
      "5\n",
      "6\n",
      "7\n",
      "8\n",
      "9\n"
     ]
    }
   ],
   "source": [
    "if(age==18):\n",
    "    print(\"yes I am 18\")\n",
    "def function_name():\n",
    "    pass\n",
    "for i in range(10):\n",
    "    print(i)"
   ]
  },
  {
   "cell_type": "markdown",
   "id": "94a22b6c-7229-4a8a-8538-f82a25fe2c9e",
   "metadata": {},
   "source": [
    "<b>If else statement"
   ]
  },
  {
   "cell_type": "code",
   "execution_count": 8,
   "id": "b16bff88-2510-490e-8eab-c8d6fdbc7dbd",
   "metadata": {},
   "outputs": [
    {
     "name": "stdin",
     "output_type": "stream",
     "text": [
      "Enter your age:  12\n"
     ]
    },
    {
     "name": "stdout",
     "output_type": "stream",
     "text": [
      "Hello Children!\n"
     ]
    }
   ],
   "source": [
    "# If else\n",
    "age = int(input(\"Enter your age: \"))\n",
    "if age < 18:\n",
    "    print(\"Hello Children!\")\n",
    "else:\n",
    "    print(\"Hey Adult!\")"
   ]
  },
  {
   "cell_type": "markdown",
   "id": "9ef600de-02ab-4120-8b4f-47d3704b7704",
   "metadata": {},
   "source": [
    "<b>If elif statement"
   ]
  },
  {
   "cell_type": "code",
   "execution_count": 10,
   "id": "aeb8b0f1-7743-4f53-b04f-60245faca68f",
   "metadata": {},
   "outputs": [
    {
     "ename": "_IncompleteInputError",
     "evalue": "incomplete input (2184137987.py, line 2)",
     "output_type": "error",
     "traceback": [
      "\u001b[1;36m  Cell \u001b[1;32mIn[10], line 2\u001b[1;36m\u001b[0m\n\u001b[1;33m    \"\"\"\u001b[0m\n\u001b[1;37m    ^\u001b[0m\n\u001b[1;31m_IncompleteInputError\u001b[0m\u001b[1;31m:\u001b[0m incomplete input\n"
     ]
    }
   ],
   "source": [
    "# if elif\n",
    "\"\"\" \n",
    "OUTPUT:\n",
    "age<18 --> children\n",
    "\"\"\""
   ]
  },
  {
   "cell_type": "code",
   "execution_count": null,
   "id": "abba4932-3370-434c-b3eb-645f040cabc5",
   "metadata": {},
   "outputs": [],
   "source": []
  },
  {
   "cell_type": "code",
   "execution_count": null,
   "id": "bce2bfd3-7119-4299-8c01-ef3f7b6b76a8",
   "metadata": {},
   "outputs": [],
   "source": []
  }
 ],
 "metadata": {
  "kernelspec": {
   "display_name": "Python 3 (ipykernel)",
   "language": "python",
   "name": "python3"
  },
  "language_info": {
   "codemirror_mode": {
    "name": "ipython",
    "version": 3
   },
   "file_extension": ".py",
   "mimetype": "text/x-python",
   "name": "python",
   "nbconvert_exporter": "python",
   "pygments_lexer": "ipython3",
   "version": "3.13.5"
  }
 },
 "nbformat": 4,
 "nbformat_minor": 5
}
