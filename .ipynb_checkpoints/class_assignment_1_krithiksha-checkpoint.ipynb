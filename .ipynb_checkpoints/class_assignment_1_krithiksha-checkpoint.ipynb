{
 "cells": [
  {
   "cell_type": "markdown",
   "id": "5a192020-c807-48d0-8d64-ba2d5fa1b963",
   "metadata": {},
   "source": [
    "<b>Class Assignment 1"
   ]
  },
  {
   "cell_type": "code",
   "execution_count": 26,
   "id": "84e7fb41-e03d-476a-8994-bfccffb35e50",
   "metadata": {
    "scrolled": true
   },
   "outputs": [
    {
     "name": "stdout",
     "output_type": "stream",
     "text": [
      "Sub-fields in AI are: \n",
      "Machine learning\n",
      "Neural Networks\n",
      "Vision\n",
      "Robotics\n",
      "Speech Processing\n",
      "Natural Language Processing\n"
     ]
    }
   ],
   "source": [
    "# create a class and function , and list out the items in the list\n",
    "class SubfieldInAI():\n",
    "    def Subfields():  #static method\n",
    "        ai_subfields = [\"Machine learning\",\"Neural Networks\",\"Vision\",\"Robotics\",\"Speech Processing\",\"Natural Language Processing\"]\n",
    "        print(\"Sub-fields in AI are: \")\n",
    "        for domain in ai_subfields:\n",
    "            print(domain)\n",
    "SubfieldInAI.Subfields()"
   ]
  },
  {
   "cell_type": "code",
   "execution_count": 3,
   "id": "c1e5cec2-fe8e-42ae-b533-441941485429",
   "metadata": {},
   "outputs": [
    {
     "name": "stdin",
     "output_type": "stream",
     "text": [
      "Enter a number:  45\n"
     ]
    },
    {
     "name": "stdout",
     "output_type": "stream",
     "text": [
      "45 is Odd number\n"
     ]
    }
   ],
   "source": [
    "# Create a class that checks whether the given number is odd or even \n",
    "class OddEven():\n",
    "    def OddEven():\n",
    "        number = int(input(\"Enter a number: \"))\n",
    "        print(f\"{number} is Even number\") if (number%2==0) else print(f\"{number} is Odd number\")\n",
    "OddEven.OddEven()"
   ]
  },
  {
   "cell_type": "code",
   "execution_count": 23,
   "id": "db7c4279-9aa3-46b1-ae8b-4d274226ff56",
   "metadata": {},
   "outputs": [
    {
     "name": "stdin",
     "output_type": "stream",
     "text": [
      "Your Gender:  male\n",
      "Your Age:  12\n"
     ]
    },
    {
     "data": {
      "text/plain": [
       "' NOT ELIGIBLE'"
      ]
     },
     "execution_count": 23,
     "metadata": {},
     "output_type": "execute_result"
    }
   ],
   "source": [
    "# create a class that tells elegibility of marriage for male and female according to their age limit like 21 for male and 18 for female\n",
    "class ElegiblityForMarriage():\n",
    "    def Elegible():\n",
    "        try:\n",
    "            gender=input(\"Your Gender: \").lower()\n",
    "            age=int(input(\"Your Age: \")) if gender in [\"male\",\"female\"] else print(\"enter valid gender\")\n",
    "            if gender==\"male\" and age>=21:\n",
    "                eligibility=\"ELIGIBLE\"\n",
    "            elif gender==\"female\" and age>=18:\n",
    "                eligibility=\"ELIGIBLE\"\n",
    "            else:\n",
    "                eligibility=\" NOT ELIGIBLE\"\n",
    "            return eligibility\n",
    "        except ValueError as err:\n",
    "            print(\"Please enter a valid age in integer!. Error: \",err)\n",
    "        \n",
    "ElegiblityForMarriage.Elegible()"
   ]
  },
  {
   "cell_type": "code",
   "execution_count": 25,
   "id": "024e4198-8bdc-44fb-a0e8-6e32d7f9bdab",
   "metadata": {},
   "outputs": [
    {
     "name": "stdin",
     "output_type": "stream",
     "text": [
      "Subject_1 mark:  89\n",
      "Subject_2 mark:  86\n",
      "Subject_3 mark:  95\n",
      "Subject_4 mark:  96\n",
      "Subject_5 mark:  91\n"
     ]
    },
    {
     "name": "stdout",
     "output_type": "stream",
     "text": [
      "Total:  457\n",
      "Percentage:  91 %\n"
     ]
    }
   ],
   "source": [
    "# calculate the percentage of your 10th mark \n",
    "class FindPercent():\n",
    "    def percentage():\n",
    "        try:\n",
    "            subject_marks = {}  # store all marks in dictionary\n",
    "            for i in range(1,6):\n",
    "                subject_marks[f\"subject_{i}\"]=int(input(f\"Subject_{i} mark: \"))\n",
    "            total_marks = sum(subject_marks.values())\n",
    "            percentage = total_marks//5\n",
    "            print(\"Total: \",total_marks)\n",
    "            print(\"Percentage: \",percentage, \"%\")\n",
    "        except ValueError as err:\n",
    "            print(\"Please enter a valid mark in integer!. Error: \",err)\n",
    "FindPercent.percentage()"
   ]
  },
  {
   "cell_type": "code",
   "execution_count": 30,
   "id": "87a9fb00-88b3-4416-a260-c3d775819ad4",
   "metadata": {},
   "outputs": [
    {
     "name": "stdin",
     "output_type": "stream",
     "text": [
      "height of triangle 32\n",
      "breadth of triangle 34\n",
      "side1 of triangle 2\n",
      "side2 of triangle 4\n",
      "base_side of triangle 4\n"
     ]
    },
    {
     "name": "stdout",
     "output_type": "stream",
     "text": [
      "area_of_triangle:   544.0\n",
      "perimeter_of_triangle :  10\n"
     ]
    }
   ],
   "source": [
    "# print area and perimeter of triangle using class\n",
    "class Triangle():\n",
    "    def triangle():\n",
    "        try:\n",
    "            height=int(input(\"height of triangle\"))\n",
    "            breadth=int(input(\"breadth of triangle\"))\n",
    "            area_of_triangle = (height*breadth)/2\n",
    "            side1=int(input(\"side1 of triangle\"))\n",
    "            side2=int(input(\"side2 of triangle\"))\n",
    "            base_side=int(input(\"base_side of triangle\"))\n",
    "            perimeter_of_triangle=side1+side2+base_side \n",
    "            print( \"area_of_triangle:  \",area_of_triangle)\n",
    "            print(\"perimeter_of_triangle : \",perimeter_of_triangle)\n",
    "        except ValueError as err:\n",
    "            print(\"Please enter a valid data. NOTE: all data's in integer!. Error: \",err)\n",
    "\n",
    "Triangle.triangle()\n"
   ]
  },
  {
   "cell_type": "code",
   "execution_count": null,
   "id": "f42ff782-186b-48c7-9d8f-31ad37abec8a",
   "metadata": {},
   "outputs": [],
   "source": []
  },
  {
   "cell_type": "code",
   "execution_count": null,
   "id": "cbdd8bd5-bff6-46f7-8a72-10b634daf5b0",
   "metadata": {},
   "outputs": [],
   "source": []
  },
  {
   "cell_type": "code",
   "execution_count": null,
   "id": "19bb9ba4-f1fa-427b-b5a3-3c5103b96076",
   "metadata": {},
   "outputs": [],
   "source": []
  },
  {
   "cell_type": "code",
   "execution_count": null,
   "id": "149d5f0f-ab28-4968-881a-38187003c016",
   "metadata": {},
   "outputs": [],
   "source": []
  },
  {
   "cell_type": "code",
   "execution_count": null,
   "id": "77e84f7c-6dac-4215-9391-6ea3ee38dcf0",
   "metadata": {},
   "outputs": [],
   "source": []
  },
  {
   "cell_type": "code",
   "execution_count": null,
   "id": "d1524728-300f-4542-b580-486c0c799b52",
   "metadata": {},
   "outputs": [],
   "source": []
  },
  {
   "cell_type": "code",
   "execution_count": null,
   "id": "4daba4b7-bcfc-4270-9dda-109765c64883",
   "metadata": {},
   "outputs": [],
   "source": []
  },
  {
   "cell_type": "code",
   "execution_count": null,
   "id": "e23deb3d-d1cf-4bd6-b874-e2e5ea50f14a",
   "metadata": {},
   "outputs": [],
   "source": []
  },
  {
   "cell_type": "code",
   "execution_count": null,
   "id": "5eeb84ce-1907-41a1-a8ce-eb1ce9672f36",
   "metadata": {},
   "outputs": [],
   "source": []
  },
  {
   "cell_type": "code",
   "execution_count": null,
   "id": "1af2efcf-e50f-45dd-9a76-0b1a12483278",
   "metadata": {},
   "outputs": [],
   "source": []
  },
  {
   "cell_type": "code",
   "execution_count": null,
   "id": "e09b0236-fe3b-47b3-9725-b72ece722176",
   "metadata": {},
   "outputs": [],
   "source": []
  }
 ],
 "metadata": {
  "kernelspec": {
   "display_name": "Python 3 (ipykernel)",
   "language": "python",
   "name": "python3"
  },
  "language_info": {
   "codemirror_mode": {
    "name": "ipython",
    "version": 3
   },
   "file_extension": ".py",
   "mimetype": "text/x-python",
   "name": "python",
   "nbconvert_exporter": "python",
   "pygments_lexer": "ipython3",
   "version": "3.13.5"
  }
 },
 "nbformat": 4,
 "nbformat_minor": 5
}
