{
 "cells": [
  {
   "cell_type": "code",
   "execution_count": 1,
   "id": "c597ae60",
   "metadata": {},
   "outputs": [
    {
     "name": "stdout",
     "output_type": "stream",
     "text": [
      "add_result :  110\n",
      "sub_result :  70\n"
     ]
    }
   ],
   "source": [
    "num1=90\n",
    "num2=20\n",
    "add_result = num1 + num2\n",
    "sub_result = num1 - num2\n",
    "print(\"add_result : \",add_result)\n",
    "print(\"sub_result : \",sub_result)"
   ]
  },
  {
   "cell_type": "markdown",
   "id": "6356313b",
   "metadata": {},
   "source": [
    "<b> OutPut:<b> <br>\n",
    "The addition of two numbers <br>\n",
    "The number 1 : 10 <br>\n",
    "The number 2 : 20 <br>\n",
    "The answer : 30"
   ]
  },
  {
   "cell_type": "code",
   "execution_count": 3,
   "id": "9fa82ede",
   "metadata": {},
   "outputs": [
    {
     "name": "stdout",
     "output_type": "stream",
     "text": [
      "The addition of two numbers\n",
      "The number 1: 10\n",
      "The number 2: 20\n",
      "The answer: 30\n"
     ]
    }
   ],
   "source": [
    "print(\"The addition of two numbers\")\n",
    "num1=10\n",
    "print(\"The number 1:\",num1)\n",
    "num2=20\n",
    "print(\"The number 2:\",num2)\n",
    "print(\"The answer:\",num1+num2)\n"
   ]
  },
  {
   "cell_type": "markdown",
   "id": "1f5b8c3f-4d8a-4cd7-aae3-3b6df19f6e84",
   "metadata": {},
   "source": [
    "<b>Input Statement<b>"
   ]
  },
  {
   "cell_type": "code",
   "execution_count": 4,
   "id": "3ed93f29-f928-4368-96bb-082ea869173f",
   "metadata": {},
   "outputs": [
    {
     "name": "stdin",
     "output_type": "stream",
     "text": [
      "Enter the number 1:  23\n",
      "Enter the number 2:  33\n"
     ]
    },
    {
     "name": "stdout",
     "output_type": "stream",
     "text": [
      "get input from user [by default input() - gets input as a string] -->  2333\n"
     ]
    }
   ],
   "source": [
    "# get string input\n",
    "num1=input(\"Enter the number 1: \")\n",
    "num2=input(\"Enter the number 2: \")\n",
    "add = num1+num2\n",
    "print(\"get input from user [by default input() - gets input as a string] --> \",add)"
   ]
  },
  {
   "cell_type": "code",
   "execution_count": 6,
   "id": "07f953c4-a965-4e7c-be7e-d1db86598f82",
   "metadata": {},
   "outputs": [
    {
     "name": "stdin",
     "output_type": "stream",
     "text": [
      "Enter the number 1:  23\n",
      "Enter the number 2:  33\n"
     ]
    },
    {
     "name": "stdout",
     "output_type": "stream",
     "text": [
      "get input from user [int(input()) - gets input as integer] -->  56\n"
     ]
    }
   ],
   "source": [
    "# get integer input\n",
    "num1=int(input(\"Enter the number 1: \"))\n",
    "num2=int(input(\"Enter the number 2: \"))\n",
    "add = num1+num2\n",
    "print(\"get input from user [int(input()) - gets input as integer] --> \",add)"
   ]
  }
 ],
 "metadata": {
  "kernelspec": {
   "display_name": "Python 3 (ipykernel)",
   "language": "python",
   "name": "python3"
  },
  "language_info": {
   "codemirror_mode": {
    "name": "ipython",
    "version": 3
   },
   "file_extension": ".py",
   "mimetype": "text/x-python",
   "name": "python",
   "nbconvert_exporter": "python",
   "pygments_lexer": "ipython3",
   "version": "3.13.5"
  }
 },
 "nbformat": 4,
 "nbformat_minor": 5
}
