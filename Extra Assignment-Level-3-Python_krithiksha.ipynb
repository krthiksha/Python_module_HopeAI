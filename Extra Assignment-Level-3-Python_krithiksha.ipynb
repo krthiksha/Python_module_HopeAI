{
 "cells": [
  {
   "cell_type": "markdown",
   "id": "0471a9d7-8b0e-471e-b670-52033112edfa",
   "metadata": {},
   "source": [
    "<b>Extra Assignment-Level-3-Python"
   ]
  },
  {
   "cell_type": "code",
   "execution_count": 1,
   "id": "c69de3fa-c7af-42ca-8a8d-badf34cf37f2",
   "metadata": {},
   "outputs": [
    {
     "name": "stdout",
     "output_type": "stream",
     "text": [
      "value:  10 \n",
      "CORRECT\n"
     ]
    }
   ],
   "source": [
    "# print 'CORRECT' if i==10\n",
    "i=10\n",
    "if i==10:\n",
    "    print(\"value: \",i,\"\\nCORRECT\")"
   ]
  },
  {
   "cell_type": "code",
   "execution_count": 5,
   "id": "62a3725f-2e7a-49b3-a57e-8c5ab5b082ef",
   "metadata": {},
   "outputs": [
    {
     "name": "stdin",
     "output_type": "stream",
     "text": [
      "Enter the password:  HOPE@123\n"
     ]
    },
    {
     "name": "stdout",
     "output_type": "stream",
     "text": [
      "Your password is correct\n"
     ]
    }
   ],
   "source": [
    "# check the password, using if and else\n",
    "myPassword = input(\"Enter the password: \")\n",
    "if myPassword==\"HOPE@123\":\n",
    "    print(\"Your password is correct\")\n",
    "else:\n",
    "    print(\"Please check the password!\")"
   ]
  },
  {
   "cell_type": "code",
   "execution_count": 11,
   "id": "67c830c0-c6d7-44c7-bdec-e34531b47403",
   "metadata": {},
   "outputs": [
    {
     "name": "stdin",
     "output_type": "stream",
     "text": [
      "age:  89\n"
     ]
    },
    {
     "name": "stdout",
     "output_type": "stream",
     "text": [
      "senior\n"
     ]
    }
   ],
   "source": [
    "# category the people by their age like children, adult, citizen and senior\n",
    "age=int(input(\"age: \"))\n",
    "if age<18:\n",
    "    print(\"children\")\n",
    "elif 18<=age<30:\n",
    "    print(\"adult\")\n",
    "elif 30<=age<59:\n",
    "    print(\"citizen\")\n",
    "else:\n",
    "    print(\"senior\")"
   ]
  },
  {
   "cell_type": "code",
   "execution_count": 17,
   "id": "18541b4d-886a-4432-b14c-bd5dba592ebd",
   "metadata": {},
   "outputs": [
    {
     "name": "stdin",
     "output_type": "stream",
     "text": [
      "Enter any number:  555\n"
     ]
    },
    {
     "name": "stdout",
     "output_type": "stream",
     "text": [
      "Number is positive\n"
     ]
    }
   ],
   "source": [
    "# find whether given number is positive or negative\n",
    "try:\n",
    "    number = int(input(\"Enter any number: \"))\n",
    "    if number<0:\n",
    "        print(\"Number is negative\")\n",
    "    elif number>=0:\n",
    "        print(\"Number is positive\")\n",
    "except ValueError as err:\n",
    "    print(\"Please enter a valid integer!\")"
   ]
  },
  {
   "cell_type": "code",
   "execution_count": 24,
   "id": "956c5d53-c849-45e9-8002-c97d54133c13",
   "metadata": {},
   "outputs": [
    {
     "name": "stdin",
     "output_type": "stream",
     "text": [
      "Enter a number to check is divisible by 5:  58\n"
     ]
    },
    {
     "name": "stdout",
     "output_type": "stream",
     "text": [
      "The Number 58 is Not divisible by 5\n"
     ]
    }
   ],
   "source": [
    "# check whether the given number is divisible by 5\n",
    "number = int(input(\"Enter a number to check is divisible by 5: \"))\n",
    "if number%5==0:\n",
    "    print(f\"The Number {number} is divisible by 5\")\n",
    "else:\n",
    "    print(f\"The Number {number} is Not divisible by 5\")"
   ]
  }
 ],
 "metadata": {
  "kernelspec": {
   "display_name": "Python 3 (ipykernel)",
   "language": "python",
   "name": "python3"
  },
  "language_info": {
   "codemirror_mode": {
    "name": "ipython",
    "version": 3
   },
   "file_extension": ".py",
   "mimetype": "text/x-python",
   "name": "python",
   "nbconvert_exporter": "python",
   "pygments_lexer": "ipython3",
   "version": "3.13.5"
  }
 },
 "nbformat": 4,
 "nbformat_minor": 5
}
