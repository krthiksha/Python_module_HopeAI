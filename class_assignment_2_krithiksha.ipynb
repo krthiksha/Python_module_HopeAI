{
 "cells": [
  {
   "cell_type": "markdown",
   "id": "03619c89-9bde-4727-be6a-2f3bc843fb10",
   "metadata": {},
   "source": [
    "<b> Class Assignment 2 "
   ]
  },
  {
   "cell_type": "code",
   "execution_count": 1,
   "id": "dda3a995-6137-4de0-b8eb-260a460f011f",
   "metadata": {},
   "outputs": [],
   "source": [
    "from class_assignment_2_library import AllClass"
   ]
  },
  {
   "cell_type": "code",
   "execution_count": 2,
   "id": "1ab54f46-42b8-461c-9d75-89bc5ec60c97",
   "metadata": {
    "scrolled": true
   },
   "outputs": [
    {
     "name": "stdout",
     "output_type": "stream",
     "text": [
      "Sub-fields in AI are: \n",
      "Machine learning\n",
      "Neural Networks\n",
      "Vision\n",
      "Robotics\n",
      "Speech Processing\n",
      "Natural Language Processing\n"
     ]
    }
   ],
   "source": [
    "AllClass.Subfields()"
   ]
  },
  {
   "cell_type": "code",
   "execution_count": 3,
   "id": "7478354a-15bf-4669-adec-0acec9abcb27",
   "metadata": {},
   "outputs": [
    {
     "name": "stdin",
     "output_type": "stream",
     "text": [
      "Enter a number:  42\n"
     ]
    },
    {
     "name": "stdout",
     "output_type": "stream",
     "text": [
      "42 is Even number\n"
     ]
    }
   ],
   "source": [
    "AllClass.OddEven()"
   ]
  },
  {
   "cell_type": "code",
   "execution_count": 9,
   "id": "0cb5b999-4515-499e-bad3-1449bd094dbf",
   "metadata": {},
   "outputs": [
    {
     "name": "stdin",
     "output_type": "stream",
     "text": [
      "Your Gender:  female\n",
      "Your Age:  23\n"
     ]
    },
    {
     "data": {
      "text/plain": [
       "'ELIGIBLE'"
      ]
     },
     "execution_count": 9,
     "metadata": {},
     "output_type": "execute_result"
    }
   ],
   "source": [
    "AllClass.Elegible()  # marriage eligibility for both gender (male,female)"
   ]
  },
  {
   "cell_type": "code",
   "execution_count": 7,
   "id": "397bd9ce-f4d0-4e99-a889-49b687d76cc5",
   "metadata": {},
   "outputs": [
    {
     "name": "stdin",
     "output_type": "stream",
     "text": [
      "Subject_1 mark:  89\n",
      "Subject_2 mark:  95\n",
      "Subject_3 mark:  96\n",
      "Subject_4 mark:  79\n",
      "Subject_5 mark:  98\n"
     ]
    },
    {
     "name": "stdout",
     "output_type": "stream",
     "text": [
      "Total:  457\n",
      "Percentage:  91 %\n"
     ]
    }
   ],
   "source": [
    "AllClass.percentage()      #student marks and total"
   ]
  },
  {
   "cell_type": "code",
   "execution_count": 10,
   "id": "74fc70ae-aa53-43e8-9dcc-3d48821a40ec",
   "metadata": {},
   "outputs": [
    {
     "name": "stdin",
     "output_type": "stream",
     "text": [
      "height of triangle 2\n",
      "breadth of triangle 4\n",
      "side1 of triangle 2\n",
      "side2 of triangle 3\n",
      "base_side of triangle 2\n"
     ]
    },
    {
     "name": "stdout",
     "output_type": "stream",
     "text": [
      "area_of_triangle:   4.0\n",
      "perimeter_of_triangle :  7\n"
     ]
    }
   ],
   "source": [
    "AllClass.triangle()    #to find - area of triangle and perimeter of the triangle"
   ]
  },
  {
   "cell_type": "code",
   "execution_count": null,
   "id": "d3425c8f-6fab-4719-9861-fbdeb2e8cf41",
   "metadata": {},
   "outputs": [],
   "source": []
  },
  {
   "cell_type": "code",
   "execution_count": null,
   "id": "306b4e1f-7fe5-4267-b0c3-a9cbf9525e8f",
   "metadata": {},
   "outputs": [],
   "source": []
  },
  {
   "cell_type": "code",
   "execution_count": null,
   "id": "de759431-d3ca-44c0-9aa8-03f12e98e67f",
   "metadata": {},
   "outputs": [],
   "source": []
  },
  {
   "cell_type": "code",
   "execution_count": null,
   "id": "0b4a3166-ee98-4978-9dc1-195d53f3e42f",
   "metadata": {},
   "outputs": [],
   "source": []
  },
  {
   "cell_type": "code",
   "execution_count": null,
   "id": "d5cc7ba8-b89e-4638-abfa-b98fec1cacef",
   "metadata": {},
   "outputs": [],
   "source": []
  },
  {
   "cell_type": "code",
   "execution_count": null,
   "id": "aad7d2a7-bb0f-4516-a712-176ba25c874e",
   "metadata": {},
   "outputs": [],
   "source": []
  }
 ],
 "metadata": {
  "kernelspec": {
   "display_name": "Python 3 (ipykernel)",
   "language": "python",
   "name": "python3"
  },
  "language_info": {
   "codemirror_mode": {
    "name": "ipython",
    "version": 3
   },
   "file_extension": ".py",
   "mimetype": "text/x-python",
   "name": "python",
   "nbconvert_exporter": "python",
   "pygments_lexer": "ipython3",
   "version": "3.13.5"
  }
 },
 "nbformat": 4,
 "nbformat_minor": 5
}
