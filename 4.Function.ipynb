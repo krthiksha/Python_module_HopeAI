{
 "cells": [
  {
   "cell_type": "markdown",
   "id": "d240eef5-b24f-4ad7-aeef-0e51e6742249",
   "metadata": {},
   "source": [
    "<b> Function"
   ]
  },
  {
   "cell_type": "code",
   "execution_count": 5,
   "id": "a2e70f3c-9980-484b-a8ff-a3fd20ecc6c9",
   "metadata": {},
   "outputs": [],
   "source": [
    "def age_category(age_list):\n",
    "    for age in age_list:\n",
    "        if age < 18:\n",
    "            print(\"Hello Children!\")\n",
    "        elif (age>18 and age<35):\n",
    "            print(\"Hey Adult!\")\n",
    "        elif (age>35 and age<59):\n",
    "            print(\"Hey Citizen!\")\n",
    "        else:\n",
    "            print(\"Hey Senior Citizen!\")"
   ]
  },
  {
   "cell_type": "code",
   "execution_count": 6,
   "id": "c9363b7e-6583-4960-936d-ad5e65f44d03",
   "metadata": {},
   "outputs": [
    {
     "name": "stdout",
     "output_type": "stream",
     "text": [
      "Hey Citizen!\n",
      "Hello Children!\n",
      "Hello Children!\n",
      "Hey Adult!\n",
      "Hey Senior Citizen!\n",
      "Hello Children!\n",
      "Hey Citizen!\n"
     ]
    }
   ],
   "source": [
    "age_category([52,12,14,23,89,2,45])"
   ]
  },
  {
   "cell_type": "code",
   "execution_count": 11,
   "id": "7e9fdb56-874e-48e5-a308-e5bec808598e",
   "metadata": {},
   "outputs": [],
   "source": [
    "def age_category(age):\n",
    "    if age < 18:\n",
    "        print(\"Hello Children!\")\n",
    "        category = \"Children\" \n",
    "    elif (age>18 and age<35):\n",
    "        print(\"Hey Adult!\")\n",
    "        category = \"Adult\"\n",
    "    elif (age>35 and age<59):\n",
    "        print(\"Hey Citizen!\")\n",
    "        category = \"Citizen\"\n",
    "    else:\n",
    "        print(\"Hey Senior Citizen!\")\n",
    "        category = \"Senior Citizen\"\n",
    "    return category\n",
    "    "
   ]
  },
  {
   "cell_type": "code",
   "execution_count": 25,
   "id": "696a02c9-e052-4734-9815-83dd224fa42a",
   "metadata": {},
   "outputs": [
    {
     "name": "stdin",
     "output_type": "stream",
     "text": [
      "Enter your age:  2\n"
     ]
    },
    {
     "name": "stdout",
     "output_type": "stream",
     "text": [
      "Hello Children!\n"
     ]
    },
    {
     "data": {
      "text/plain": [
       "'Children'"
      ]
     },
     "execution_count": 25,
     "metadata": {},
     "output_type": "execute_result"
    }
   ],
   "source": [
    "age=int(input(\"Enter your age: \"))\n",
    "age_category(age)"
   ]
  },
  {
   "cell_type": "code",
   "execution_count": 26,
   "id": "1fd44d72-bb04-4161-b8aa-97e90bd4b28f",
   "metadata": {},
   "outputs": [
    {
     "name": "stdout",
     "output_type": "stream",
     "text": [
      "Hello Children!\n"
     ]
    }
   ],
   "source": [
    "age_function = age_category(age)    #calls function and ouputs- print statements, Stores return statement in the variable 'age_function'\n"
   ]
  },
  {
   "cell_type": "code",
   "execution_count": 27,
   "id": "81503f0b-826a-40d6-83d2-e926424cbd68",
   "metadata": {},
   "outputs": [
    {
     "data": {
      "text/plain": [
       "'Children'"
      ]
     },
     "execution_count": 27,
     "metadata": {},
     "output_type": "execute_result"
    }
   ],
   "source": [
    "age_function   "
   ]
  },
  {
   "cell_type": "code",
   "execution_count": 50,
   "id": "e87fb3f3-522c-403f-8402-bab6f4ed1a0a",
   "metadata": {},
   "outputs": [],
   "source": [
    "def age_category_without_return_statement(age):\n",
    "    if age < 18:\n",
    "        print(\"Hello Children!\")\n",
    "    elif (age>18 and age<35):\n",
    "        print(\"Hey Adult!\")\n",
    "    elif (age>35 and age<59):\n",
    "        print(\"Hey Citizen!\")\n",
    "    else:\n",
    "        print(\"Hey Senior Citizen!\")\n",
    "    # NO return statement"
   ]
  },
  {
   "cell_type": "code",
   "execution_count": 51,
   "id": "30fa0ae7-c897-46c1-975b-f565e8500967",
   "metadata": {},
   "outputs": [
    {
     "name": "stdin",
     "output_type": "stream",
     "text": [
      "Enter your age:  53\n"
     ]
    },
    {
     "name": "stdout",
     "output_type": "stream",
     "text": [
      "Hey Citizen!\n"
     ]
    }
   ],
   "source": [
    "age=int(input(\"Enter your age: \"))\n",
    "age_function_without_return = age_category_without_return_statement(age) "
   ]
  },
  {
   "cell_type": "code",
   "execution_count": 52,
   "id": "8a043a82-e8c7-4b34-8ddf-f94c74b76434",
   "metadata": {},
   "outputs": [
    {
     "name": "stdout",
     "output_type": "stream",
     "text": [
      "None\n"
     ]
    }
   ],
   "source": [
    "print(age_function_without_return)"
   ]
  },
  {
   "cell_type": "code",
   "execution_count": 60,
   "id": "27d91241-8f56-4ced-9236-2f2240842fe8",
   "metadata": {},
   "outputs": [],
   "source": [
    "# odd or even function\n",
    "def OddEven():\n",
    "    if num%2==0:\n",
    "        Message=\"Even\"\n",
    "    else:\n",
    "        Message=\"Odd\"\n",
    "    return Message"
   ]
  },
  {
   "cell_type": "code",
   "execution_count": 64,
   "id": "76311f76-d1b9-451e-aec5-84273873e159",
   "metadata": {},
   "outputs": [
    {
     "name": "stdin",
     "output_type": "stream",
     "text": [
      "Enter the input:  4\n"
     ]
    }
   ],
   "source": [
    "num = int(input(\"Enter the input: \"))\n",
    "odd_even_result = OddEven()"
   ]
  },
  {
   "cell_type": "code",
   "execution_count": 65,
   "id": "c6d1f43e-ace4-4ae3-b47e-204e234e6ff5",
   "metadata": {},
   "outputs": [
    {
     "data": {
      "text/plain": [
       "'Even'"
      ]
     },
     "execution_count": 65,
     "metadata": {},
     "output_type": "execute_result"
    }
   ],
   "source": [
    "odd_even_result"
   ]
  },
  {
   "cell_type": "code",
   "execution_count": 66,
   "id": "aadee349-0f73-41bb-a50c-e09574da542a",
   "metadata": {},
   "outputs": [
    {
     "name": "stdout",
     "output_type": "stream",
     "text": [
      "the number 4 is even and square of 4 is 16\n"
     ]
    }
   ],
   "source": [
    "if odd_even_result == \"Even\":\n",
    "    print(f\"the number {num} is even and square of {num} is {num**2}\")\n",
    "else:\n",
    "    print(f\"the number {num} is odd\")"
   ]
  },
  {
   "cell_type": "code",
   "execution_count": 80,
   "id": "42f91e6c-745b-463d-87dd-564177dac9d5",
   "metadata": {},
   "outputs": [],
   "source": [
    "# BMI function    --> Non parameterized function\n",
    "def BodyMassIndex():\n",
    "    BMI=float(input(\"Enter the BMI index: \"))\n",
    "    if BMI<18.5:\n",
    "        print(\"Underweight\")\n",
    "        message = \" Underweight\"\n",
    "    elif BMI>18.5 and BMI<24.9:\n",
    "        print(\"Optimum range\")\n",
    "        message = \"Optimum range \"\n",
    "    elif BMI>25 and BMI<29.9:\n",
    "        print(\"Over weight\")\n",
    "        message = \"Over weight \"\n",
    "    elif BMI>30 and BMI<34.9:\n",
    "        print(\"Class I Obesity\")\n",
    "        message = \"Class I Obesity \"\n",
    "    elif BMI>35 and BMI<39.9:\n",
    "        print(\"Class II Obesity\")\n",
    "        message = \" Class II Obesity\"\n",
    "    else:\n",
    "        print(\"Class III Obesity\")\n",
    "        message = \" Class III Obesity\"\n",
    "    return message"
   ]
  },
  {
   "cell_type": "code",
   "execution_count": 82,
   "id": "411bd77b-c0f0-4362-be62-09b561e986d8",
   "metadata": {},
   "outputs": [
    {
     "name": "stdin",
     "output_type": "stream",
     "text": [
      "Enter the BMI index:  45\n"
     ]
    },
    {
     "name": "stdout",
     "output_type": "stream",
     "text": [
      "Class III Obesity\n"
     ]
    },
    {
     "data": {
      "text/plain": [
       "' Class III Obesity'"
      ]
     },
     "execution_count": 82,
     "metadata": {},
     "output_type": "execute_result"
    }
   ],
   "source": [
    "BodyMassIndex()  #calling Non parameterized function without parameters"
   ]
  },
  {
   "cell_type": "code",
   "execution_count": 77,
   "id": "7c3079b2-b344-435e-b594-fdb8de9e847d",
   "metadata": {},
   "outputs": [
    {
     "name": "stdin",
     "output_type": "stream",
     "text": [
      "Enter the BMI index:  45\n"
     ]
    },
    {
     "name": "stdout",
     "output_type": "stream",
     "text": [
      "Class III Obesity\n"
     ]
    }
   ],
   "source": [
    "BMI = BodyMassIndex()    #outputs - print statement and stores return statement in 'BMI' variable"
   ]
  },
  {
   "cell_type": "code",
   "execution_count": 79,
   "id": "7404745c-9746-4ac2-a256-9d461d24e358",
   "metadata": {},
   "outputs": [
    {
     "data": {
      "text/plain": [
       "' Class III Obesity'"
      ]
     },
     "execution_count": 79,
     "metadata": {},
     "output_type": "execute_result"
    }
   ],
   "source": [
    "BMI   "
   ]
  },
  {
   "cell_type": "code",
   "execution_count": 85,
   "id": "38bc41bb-11ef-4ea9-a10b-16005dbc3a17",
   "metadata": {},
   "outputs": [],
   "source": [
    "# parameterized function\n",
    "def addition(num1,num2):\n",
    "    return num1+num2"
   ]
  },
  {
   "cell_type": "code",
   "execution_count": 86,
   "id": "b1456cce-2c83-43bc-b162-36a466c7997f",
   "metadata": {},
   "outputs": [
    {
     "data": {
      "text/plain": [
       "36"
      ]
     },
     "execution_count": 86,
     "metadata": {},
     "output_type": "execute_result"
    }
   ],
   "source": [
    "addition(34,2)   #calling parameterized function with parameters"
   ]
  },
  {
   "cell_type": "code",
   "execution_count": 89,
   "id": "ea64e49a-7aea-4f9b-a83c-011c43efdcd4",
   "metadata": {},
   "outputs": [
    {
     "ename": "TypeError",
     "evalue": "addition() takes 2 positional arguments but 3 were given",
     "output_type": "error",
     "traceback": [
      "\u001b[1;31m---------------------------------------------------------------------------\u001b[0m",
      "\u001b[1;31mTypeError\u001b[0m                                 Traceback (most recent call last)",
      "Cell \u001b[1;32mIn[89], line 1\u001b[0m\n\u001b[1;32m----> 1\u001b[0m addition(\u001b[38;5;241m34\u001b[39m,\u001b[38;5;241m2\u001b[39m,\u001b[38;5;241m56\u001b[39m)\n",
      "\u001b[1;31mTypeError\u001b[0m: addition() takes 2 positional arguments but 3 were given"
     ]
    }
   ],
   "source": [
    "addition(34,2,56)  # throws error  -- as the function only takes 2 parameters"
   ]
  },
  {
   "cell_type": "code",
   "execution_count": 111,
   "id": "d437fdae-322e-42d9-8b9f-c1d07e29021b",
   "metadata": {},
   "outputs": [],
   "source": [
    "def result_of_subraction(*args):    # to pass 'n' no of arguments\n",
    "    list_of_nums=[*args]\n",
    "    result=list_of_nums[0]\n",
    "    for index in range(1,len(list_of_nums)):\n",
    "        result-=list_of_nums[index]\n",
    "    return result"
   ]
  },
  {
   "cell_type": "code",
   "execution_count": 112,
   "id": "43cf6db0-1c27-441e-9ad2-d1ecb3e388dd",
   "metadata": {},
   "outputs": [
    {
     "data": {
      "text/plain": [
       "-2"
      ]
     },
     "execution_count": 112,
     "metadata": {},
     "output_type": "execute_result"
    }
   ],
   "source": [
    "result_of_subraction(45,41,1,5)"
   ]
  },
  {
   "cell_type": "code",
   "execution_count": null,
   "id": "e0b9ec0d-a43e-4cb1-bb89-cd232f01b038",
   "metadata": {},
   "outputs": [],
   "source": []
  }
 ],
 "metadata": {
  "kernelspec": {
   "display_name": "Python 3 (ipykernel)",
   "language": "python",
   "name": "python3"
  },
  "language_info": {
   "codemirror_mode": {
    "name": "ipython",
    "version": 3
   },
   "file_extension": ".py",
   "mimetype": "text/x-python",
   "name": "python",
   "nbconvert_exporter": "python",
   "pygments_lexer": "ipython3",
   "version": "3.13.5"
  }
 },
 "nbformat": 4,
 "nbformat_minor": 5
}
