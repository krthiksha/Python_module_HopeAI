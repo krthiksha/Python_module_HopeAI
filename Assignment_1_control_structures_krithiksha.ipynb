{
 "cells": [
  {
   "cell_type": "markdown",
   "id": "a956cfdc-3248-42e2-8924-583150f1acb0",
   "metadata": {},
   "source": [
    "<b> Assignment - 1 Control Structures Question "
   ]
  },
  {
   "cell_type": "code",
   "execution_count": 2,
   "id": "795744a0-77ed-473f-9701-aee02686cc10",
   "metadata": {},
   "outputs": [
    {
     "name": "stdout",
     "output_type": "stream",
     "text": [
      "Welcome to Assignment-1\n"
     ]
    }
   ],
   "source": [
    "print(\"Welcome to Assignment-1\")"
   ]
  },
  {
   "cell_type": "code",
   "execution_count": 3,
   "id": "916796a9-a701-4d17-950b-fbf27db1aa86",
   "metadata": {},
   "outputs": [
    {
     "name": "stdout",
     "output_type": "stream",
     "text": [
      "Enter the number 1:  5\n",
      "Enter the number 2:  5\n"
     ]
    },
    {
     "name": "stdout",
     "output_type": "stream",
     "text": [
      "Num1= 5\n",
      "Num2= 5\n",
      "Add= 10\n"
     ]
    }
   ],
   "source": [
    "num1=int(input(\"Enter the number 1: \"))\n",
    "num2=int(input(\"Enter the number 2: \"))\n",
    "print(f\"Num1= {num1}\")\n",
    "print(f\"Num2= {num2}\")\n",
    "print(f\"Add= {num1+num2}\")"
   ]
  },
  {
   "cell_type": "code",
   "execution_count": 16,
   "id": "b42d1a78",
   "metadata": {},
   "outputs": [
    {
     "name": "stdin",
     "output_type": "stream",
     "text": [
      "Enter your weight in kg:  60\n",
      "Enter your height in meters:  1.65\n"
     ]
    },
    {
     "name": "stdout",
     "output_type": "stream",
     "text": [
      "Your BMI is 22.04\n",
      "Optimum range\n"
     ]
    }
   ],
   "source": [
    "# Body Mass Index\n",
    "\"\"\" BMI is a tool that healthcare providers use to estimate the amount of body fat by using your height and weight measurements. It can help assess risk factors for certain health conditions.\n",
    "calculation :-\n",
    "(weight in kilograms(kg)) divided by (square of height in meters(m2))\n",
    "Beneficial to analyze:\n",
    "High body fat may lead to heart disease, stroke and Type 2 diabetes. Low body fat may be related to malnutrition. Just the right amount of body fat helps vitamins and minerals get into your body. It also provides a source of energy for your body, helps maintain body temperature and protects your organs.\n",
    "\"\"\"\n",
    "# get the input\n",
    "weight=float(input(\"Enter your weight in kg: \"))\n",
    "height=float(input(\"Enter your height in meters: \"))\n",
    "BMI = weight/(height**2)\n",
    "print(f\"Your BMI is {BMI:.2f}\")\n",
    "if BMI<18.5:\n",
    "    print(\"Underweight\")\n",
    "elif 18.5 <=BMI< 24.9:\n",
    "    print(\"Optimum range\")\n",
    "elif 25 <=BMI< 29.9:\n",
    "    print(\"Over weight\")\n",
    "elif 30 <=BMI< 34.9:\n",
    "    print(\"Class I Obesity\")\n",
    "elif 35 <=BMI< 39.9:\n",
    "    print(\"Class II Obesity\")\n",
    "else:\n",
    "    print(\"Class III Obesity\")"
   ]
  },
  {
   "cell_type": "code",
   "execution_count": 7,
   "id": "64d143aa",
   "metadata": {},
   "outputs": [
    {
     "name": "stdin",
     "output_type": "stream",
     "text": [
      "Enter the BMI index:  26\n"
     ]
    },
    {
     "name": "stdout",
     "output_type": "stream",
     "text": [
      "Over weight\n"
     ]
    }
   ],
   "source": [
    "# Body Mass Index -- using input BMI index\n",
    "BMI=float(input(\"Enter the BMI index: \"))\n",
    "if BMI<18.5:\n",
    "    print(\"Underweight\")\n",
    "elif BMI>18.5 and BMI<24.9:\n",
    "    print(\"Optimum range\")\n",
    "elif BMI>25 and BMI<29.9:\n",
    "    print(\"Over weight\")\n",
    "elif BMI>30 and BMI<34.9:\n",
    "    print(\"Class I Obesity\")\n",
    "elif BMI>35 and BMI<39.9:\n",
    "    print(\"Class II Obesity\")\n",
    "else:\n",
    "    print(\"Class III Obesity\")"
   ]
  },
  {
   "cell_type": "code",
   "execution_count": null,
   "id": "2a9f3ad8-35f9-45c1-b28c-76088703db25",
   "metadata": {},
   "outputs": [],
   "source": []
  }
 ],
 "metadata": {
  "kernelspec": {
   "display_name": "Python 3 (ipykernel)",
   "language": "python",
   "name": "python3"
  },
  "language_info": {
   "codemirror_mode": {
    "name": "ipython",
    "version": 3
   },
   "file_extension": ".py",
   "mimetype": "text/x-python",
   "name": "python",
   "nbconvert_exporter": "python",
   "pygments_lexer": "ipython3",
   "version": "3.13.5"
  }
 },
 "nbformat": 4,
 "nbformat_minor": 5
}
